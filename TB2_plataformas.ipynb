{
  "nbformat": 4,
  "nbformat_minor": 0,
  "metadata": {
    "colab": {
      "name": "TB2_plataformas.ipynb",
      "provenance": [],
      "collapsed_sections": [
        "b4DUc2-77zCh",
        "BBPDa1T4UvA_"
      ],
      "include_colab_link": true
    },
    "kernelspec": {
      "name": "python3",
      "display_name": "Python 3"
    },
    "language_info": {
      "name": "python"
    }
  },
  "cells": [
    {
      "cell_type": "markdown",
      "metadata": {
        "id": "view-in-github",
        "colab_type": "text"
      },
      "source": [
        "<a href=\"https://colab.research.google.com/github/SebasGx-Git/TB2-IA/blob/main/TB2_plataformas.ipynb\" target=\"_parent\"><img src=\"https://colab.research.google.com/assets/colab-badge.svg\" alt=\"Open In Colab\"/></a>"
      ]
    },
    {
      "cell_type": "markdown",
      "metadata": {
        "id": "X9daVUmmTSBW"
      },
      "source": [
        "## Setup de librerías"
      ]
    },
    {
      "cell_type": "code",
      "source": [
        "import numpy as np\n",
        "import pandas as pd\n",
        "import matplotlib.pyplot as plt\n",
        "import matplotlib.gridspec as gridspec\n",
        "import seaborn as sns\n",
        "from   IPython.display import clear_output"
      ],
      "metadata": {
        "id": "Sd9SL3lZIEMb"
      },
      "execution_count": null,
      "outputs": []
    },
    {
      "cell_type": "code",
      "execution_count": null,
      "metadata": {
        "id": "xUXeMCxoTRH8"
      },
      "outputs": [],
      "source": [
        "from   sklearn.metrics import confusion_matrix, accuracy_score"
      ]
    },
    {
      "cell_type": "code",
      "source": [
        "from sklearn.neural_network import MLPClassifier\n",
        "# from sklearn.kdatasets import make_classification\n",
        "# from sklearn.model_selection import train_test_split\n",
        "from sklearn.preprocessing import LabelEncoder"
      ],
      "metadata": {
        "id": "UidovFftYxC0"
      },
      "execution_count": null,
      "outputs": []
    },
    {
      "cell_type": "markdown",
      "metadata": {
        "id": "yqk9Pn8YntdZ"
      },
      "source": [
        "## Redes Neuronales (sklearn)\n",
        "\n",
        "En la práctica se usa esta implementación de Redes Neuoronales\n",
        "\n",
        "\n",
        "https://scikit-learn.org/stable/modules/neural_networks_supervised.html#neural-networks-supervised"
      ]
    },
    {
      "cell_type": "code",
      "execution_count": null,
      "metadata": {
        "id": "V7PwerxH4rxx"
      },
      "outputs": [],
      "source": [
        "def print_confusion(dt,ds,show_heatmap=0,Cnorm=1):\n",
        "    # dt - true, ds - predicted\n",
        "    C   = confusion_matrix(dt,ds) \n",
        "    print('Confusion Matrix:')\n",
        "    print(C)\n",
        "    acc = accuracy_score(dt,ds) \n",
        "    acc_st = \"{:.2f}\".format(acc*100)\n",
        "    print('Accuracy = '+str(acc_st))\n",
        "    if show_heatmap:\n",
        "      sns.heatmap(C/Cnorm, annot=True, cbar=None, cmap=\"Blues\")\n",
        "      plt.title(\"Confusion Matrix\"), plt.tight_layout()\n",
        "      plt.ylabel(\"True Class\"), plt.xlabel(\"Predicted Class\")\n",
        "      plt.show()\n",
        "\n",
        "def plot_features(X,d,st,show=1):\n",
        "    dmin = int(np.min(d)) \n",
        "    dmax = int(np.max(d)) \n",
        "    #colors = np.array([\"red\",\"green\",\"blue\",\"yellow\",\"pink\",\"black\",\"orange\",\"purple\",\"beige\",\"brown\",\"gray\",\"cyan\",\"magenta\"])\n",
        "    #colors = 'Greens'\n",
        "    for j in range(dmin,dmax+1):\n",
        "        plt.scatter(X[d==j,0],X[d==j,1],label=str(j),s=27)\n",
        "    plt.grid(True)\n",
        "    plt.legend()\n",
        "    plt.xlabel('$x_1$',fontsize=14)\n",
        "    plt.ylabel('$x_2$',fontsize=14)\n",
        "    plt.title('Feature Space - '+st,fontsize=14)\n",
        "    if show==1:\n",
        "        plt.show()\n",
        "\n",
        "def plot_decision_lines(clf,X,show=0,decisionline=1):\n",
        "    # based on example of https://scikit-learn.org\n",
        "    h = 0.075\n",
        "    x_min, x_max = X[:, 0].min() - 1, X[:, 0].max() + 1\n",
        "    y_min, y_max = X[:, 1].min() - 1, X[:, 1].max() + 1\n",
        "    xx, yy = np.meshgrid(np.arange(x_min, x_max, h),\n",
        "                         np.arange(y_min, y_max, h))\n",
        "    if decisionline == 1:\n",
        "        Z = clf.predict(np.c_[xx.ravel(), yy.ravel()])\n",
        "        Z = Z.reshape(xx.shape)\n",
        "        plt.contourf(xx, yy, Z, cmap=plt.cm.Reds, alpha=0.8)\n",
        "    plt.xlim(x_min, x_max)\n",
        "    plt.ylim(y_min, y_max)\n",
        "    if show==1:\n",
        "        plt.show()\n",
        "\n",
        "def show_clf_results(clf,X,d,Xt,dt,d0,ds,st,decisionline=1):\n",
        "    gs = gridspec.GridSpec(1, 2)\n",
        "    fig = plt.figure(figsize=(18, 6))\n",
        "    print('Training:')\n",
        "    acc = accuracy_score(d,d0) \n",
        "    accst = f'Acc = {acc:.4f}'    \n",
        "    ax = plt.subplot(gs[0,0])\n",
        "    print_confusion(d,d0)                             # confusion matrix in training\n",
        "    plot_decision_lines(clf,X,0,decisionline)          # decision lines\n",
        "    plot_features(X,d,st+' - Training: '+accst,0)     # feature space in training   \n",
        "    ax = plt.subplot(gs[0,1])\n",
        "    print('Testing:')\n",
        "    acc = accuracy_score(ds,dt) \n",
        "    accst = f'Acc = {acc:.4f}'    \n",
        "    print_confusion(dt,ds)                            # confusion matrix in testing\n",
        "    plot_decision_lines(clf,X,0,decisionline)          # decision lines\n",
        "    plot_features(Xt,dt,st+' - Testing: '+accst,1)    # feature space in testing\n",
        "\n",
        "\n",
        "def plot_loss(loss_train):\n",
        "    plt.figure(figsize=[8,6])\n",
        "    plt.plot(loss_train,'r',linewidth=1.5)\n",
        "    # plt.plot(loss_val,'b',linewidth=1.5)\n",
        "    # plt.legend(['Training loss', 'Validation Loss'],fontsize=14)\n",
        "    plt.xlabel('Epochs ',fontsize=14)\n",
        "    plt.ylabel('Loss',fontsize=14)\n",
        "    plt.title('Training Loss',fontsize=14)\n",
        "    xmin, xmax = plt.xlim()\n",
        "    ymin, ymax = plt.ylim()\n",
        "    plt.xlim(0,xmax)\n",
        "    plt.ylim(0,ymax)\n",
        "    plt.grid(True)\n",
        "    plt.show()\n"
      ]
    },
    {
      "cell_type": "markdown",
      "source": [
        "# Plataformas"
      ],
      "metadata": {
        "id": "bxW1ux9iTPMb"
      }
    },
    {
      "cell_type": "code",
      "source": [
        "# Campos\n",
        "# ID: The title ID on JustWatch.\n",
        "# title: The name of the title.\n",
        "# show type: TV show or movie. | SHOW || MOVIE\n",
        "# description: A brief description.\n",
        "# release year: The release year.\n",
        "# age certification: The age certification.\n",
        "# runtime: The length of the episode (SHOW) or movie.\n",
        "# genres: A list of genres.\n",
        "# production countries: A list of countries that produced the title.\n",
        "# seasons: Number of seasons if it's a SHOW.\n",
        "# IMDB ID: The title ID on IMDB.\n",
        "# IMDB Score: Score on IMDB.\n",
        "# IMDB Votes: Votes on IMDB.\n",
        "# TMDB Popularity: Popularity on TMDB.\n",
        "# TMDB Score: Score on TMDB.\n",
        "\n",
        "# id\ttitle\ttype\tdescription\trelease_year\n",
        "# age_certification\truntime\tgenres\tproduction_countries\tseasons\n",
        "# imdb_id\timdb_score\timdb_votes\ttmdb_popularity\ttmdb_score"
      ],
      "metadata": {
        "id": "MAfnt6XzS1x8"
      },
      "execution_count": null,
      "outputs": []
    },
    {
      "cell_type": "code",
      "source": [
        "class Platform:\n",
        "  def __init__(self, filename,\n",
        "               cols:list = ['runtime', 'age_certification'], # 'release_year', \n",
        "              #  colsF:list = ['age_certification'], #,'genres' 'age_certification', \n",
        "               label = 'imdb_score',\n",
        "               labelSubd = (0,10,1), #(0,100,10), # (min,max,step) # or None\n",
        "               ptrain = 0.8 #,\n",
        "              #  cols_drop = ['description','seasons','imdb_id','tmdb_popularity','imdb_votes','tmdb_score']\n",
        "              ):\n",
        "    self.filename = f'data/{filename}.csv'\n",
        "    self.df_ini = pd.read_csv(self.filename)\n",
        "    self.df_ini['age_certification'] = self.df_ini['age_certification'].fillna('APT')\n",
        "\n",
        "    cols_drop = []\n",
        "    for c in self.df_ini.columns:\n",
        "      if c not in cols+[label]: cols_drop += [c]\n",
        "    self.df = self.df_ini.drop(columns=cols_drop)\n",
        "    self.df = self.df.dropna().drop_duplicates()\n",
        "\n",
        "    self.cols = cols\n",
        "    # si usamos columnas categoricas, se deben convertir a int\n",
        "    for c in cols:\n",
        "      if self.df.dtypes[c] == object:\n",
        "        # print('obj')\n",
        "        le = LabelEncoder()\n",
        "        le.fit(self.df[c])\n",
        "        # list(le.classes_)\n",
        "        self.df[f'{c}_bk'] = self.df[c]\n",
        "        self.df[c] = le.transform(self.df[c])\n",
        "        # self.cols += [f'{c}_n']\n",
        "    \n",
        "    if labelSubd != None:\n",
        "      _min, _max, _step = labelSubd\n",
        "      bins = np.arange(_min, _max+1, _step)\n",
        "      names = np.arange( (_max - _min)/_step, dtype=int )\n",
        "      self.df.loc[self.df[label] > _max, label] = _max\n",
        "      self.df[f'{label}_bk'] = self.df[label]\n",
        "      self.df[label] = pd.cut(self.df[label], bins, labels=names)      \n",
        "\n",
        "    self.n = len(self.df)\n",
        "    self.n_train = int( self.n * ptrain )\n",
        "    # self.n_test = self.n - self.n_test\n",
        "    # df_dm[['release_year', 'age_certification', 'runtime', 'genres']]\n",
        "    self.x_train = np.array(self.df[self.cols][:self.n_train])\n",
        "    self.y_train = np.ravel(self.df[label][:self.n_train])#.astype('float')\n",
        "    # self.y_train = np.floor(self.y_train)\n",
        "    self.x_test = np.array(self.df[self.cols][self.n_train+1:])\n",
        "    self.y_test = np.ravel(self.df[label][self.n_train+1:])#.astype('float')\n",
        "    # self.y_test = np.floor(self.y_test)\n",
        "    "
      ],
      "metadata": {
        "id": "yZeka9HgXXJu"
      },
      "execution_count": null,
      "outputs": []
    },
    {
      "cell_type": "markdown",
      "source": [
        "## Dark Matter"
      ],
      "metadata": {
        "id": "5XlB5AzHTHbV"
      }
    },
    {
      "cell_type": "code",
      "source": [
        "dm = Platform('titles_DarkMatter')"
      ],
      "metadata": {
        "id": "cep2zpK0KB8A"
      },
      "execution_count": null,
      "outputs": []
    },
    {
      "cell_type": "code",
      "source": [
        "dm.x_train"
      ],
      "metadata": {
        "colab": {
          "base_uri": "https://localhost:8080/"
        },
        "id": "oViESZSjfQwj",
        "outputId": "4914ec97-6904-4e3c-8c18-70b31663bcb2"
      },
      "execution_count": null,
      "outputs": [
        {
          "output_type": "execute_result",
          "data": {
            "text/plain": [
              "array([[ 94,   0],\n",
              "       [ 66,   0],\n",
              "       [101,   0],\n",
              "       ...,\n",
              "       [ 94,   0],\n",
              "       [ 70,   0],\n",
              "       [ 76,   0]])"
            ]
          },
          "metadata": {},
          "execution_count": 49
        }
      ]
    },
    {
      "cell_type": "code",
      "source": [
        "dm.y_test"
      ],
      "metadata": {
        "colab": {
          "base_uri": "https://localhost:8080/"
        },
        "id": "4fl3ArIGtzQg",
        "outputId": "f783c8dd-dcf3-42c4-978b-73b99e418197"
      },
      "execution_count": null,
      "outputs": [
        {
          "output_type": "execute_result",
          "data": {
            "text/plain": [
              "array([5, 2, 4, 3, 6, 5, 4, 3, 4, 3, 3, 4, 3, 5, 3, 3, 3, 5, 3, 3, 3, 6,\n",
              "       2, 2, 2, 4, 2, 5, 4, 4, 5, 5, 5, 2, 2, 4, 5, 2, 3, 3, 2, 5, 3, 3,\n",
              "       4, 4, 5, 6, 3, 2, 3, 3, 5, 3, 3, 2, 6, 4, 3, 5, 4, 7, 4, 3, 4, 4,\n",
              "       3, 6, 3, 4, 5, 5, 4, 5, 4, 3, 2, 4, 5, 5, 4, 2, 3, 5, 6, 5, 4, 3,\n",
              "       3, 4, 2, 5, 6, 4, 3, 5, 3, 4, 4, 3, 6, 2, 4, 3, 3, 4, 3, 2, 4, 5,\n",
              "       4, 5, 3, 4, 2, 2, 3, 3, 5, 4, 5, 3, 4, 4, 3, 2, 7, 4, 3, 4, 3, 3,\n",
              "       3, 4, 4, 5, 2, 5, 8, 3, 3, 3, 3, 4, 5, 5, 6, 3, 2, 3, 8, 3, 5, 6,\n",
              "       4, 3, 4])"
            ]
          },
          "metadata": {},
          "execution_count": 50
        }
      ]
    },
    {
      "cell_type": "code",
      "source": [
        "dm.df #.dtypes['id'] == object #['imdb_score'] #tmdb_popularity"
      ],
      "metadata": {
        "colab": {
          "base_uri": "https://localhost:8080/",
          "height": 423
        },
        "id": "gxwJPKM1pPfi",
        "outputId": "4ec6c8d7-6767-4e35-e71b-89983d25ba2c"
      },
      "execution_count": null,
      "outputs": [
        {
          "output_type": "execute_result",
          "data": {
            "text/plain": [
              "      age_certification  runtime imdb_score age_certification_bk  \\\n",
              "0                     0       94          7                  APT   \n",
              "1                     0       66          7                  APT   \n",
              "2                     0      101          7                  APT   \n",
              "3                     0       95          7                  APT   \n",
              "4                     0      103          7                  APT   \n",
              "...                 ...      ...        ...                  ...   \n",
              "1015                  0       81          5                  APT   \n",
              "1017                  0      108          6                  APT   \n",
              "1018                  5      113          4                    R   \n",
              "1020                  5       90          3                    R   \n",
              "1021                  5       90          4                    R   \n",
              "\n",
              "      imdb_score_bk  \n",
              "0               7.9  \n",
              "1               7.3  \n",
              "2               7.5  \n",
              "3               7.3  \n",
              "4               7.8  \n",
              "...             ...  \n",
              "1015            5.6  \n",
              "1017            7.0  \n",
              "1018            4.9  \n",
              "1020            4.0  \n",
              "1021            4.1  \n",
              "\n",
              "[789 rows x 5 columns]"
            ],
            "text/html": [
              "\n",
              "  <div id=\"df-9783797b-f95c-4dd2-9878-36f3e31f9252\">\n",
              "    <div class=\"colab-df-container\">\n",
              "      <div>\n",
              "<style scoped>\n",
              "    .dataframe tbody tr th:only-of-type {\n",
              "        vertical-align: middle;\n",
              "    }\n",
              "\n",
              "    .dataframe tbody tr th {\n",
              "        vertical-align: top;\n",
              "    }\n",
              "\n",
              "    .dataframe thead th {\n",
              "        text-align: right;\n",
              "    }\n",
              "</style>\n",
              "<table border=\"1\" class=\"dataframe\">\n",
              "  <thead>\n",
              "    <tr style=\"text-align: right;\">\n",
              "      <th></th>\n",
              "      <th>age_certification</th>\n",
              "      <th>runtime</th>\n",
              "      <th>imdb_score</th>\n",
              "      <th>age_certification_bk</th>\n",
              "      <th>imdb_score_bk</th>\n",
              "    </tr>\n",
              "  </thead>\n",
              "  <tbody>\n",
              "    <tr>\n",
              "      <th>0</th>\n",
              "      <td>0</td>\n",
              "      <td>94</td>\n",
              "      <td>7</td>\n",
              "      <td>APT</td>\n",
              "      <td>7.9</td>\n",
              "    </tr>\n",
              "    <tr>\n",
              "      <th>1</th>\n",
              "      <td>0</td>\n",
              "      <td>66</td>\n",
              "      <td>7</td>\n",
              "      <td>APT</td>\n",
              "      <td>7.3</td>\n",
              "    </tr>\n",
              "    <tr>\n",
              "      <th>2</th>\n",
              "      <td>0</td>\n",
              "      <td>101</td>\n",
              "      <td>7</td>\n",
              "      <td>APT</td>\n",
              "      <td>7.5</td>\n",
              "    </tr>\n",
              "    <tr>\n",
              "      <th>3</th>\n",
              "      <td>0</td>\n",
              "      <td>95</td>\n",
              "      <td>7</td>\n",
              "      <td>APT</td>\n",
              "      <td>7.3</td>\n",
              "    </tr>\n",
              "    <tr>\n",
              "      <th>4</th>\n",
              "      <td>0</td>\n",
              "      <td>103</td>\n",
              "      <td>7</td>\n",
              "      <td>APT</td>\n",
              "      <td>7.8</td>\n",
              "    </tr>\n",
              "    <tr>\n",
              "      <th>...</th>\n",
              "      <td>...</td>\n",
              "      <td>...</td>\n",
              "      <td>...</td>\n",
              "      <td>...</td>\n",
              "      <td>...</td>\n",
              "    </tr>\n",
              "    <tr>\n",
              "      <th>1015</th>\n",
              "      <td>0</td>\n",
              "      <td>81</td>\n",
              "      <td>5</td>\n",
              "      <td>APT</td>\n",
              "      <td>5.6</td>\n",
              "    </tr>\n",
              "    <tr>\n",
              "      <th>1017</th>\n",
              "      <td>0</td>\n",
              "      <td>108</td>\n",
              "      <td>6</td>\n",
              "      <td>APT</td>\n",
              "      <td>7.0</td>\n",
              "    </tr>\n",
              "    <tr>\n",
              "      <th>1018</th>\n",
              "      <td>5</td>\n",
              "      <td>113</td>\n",
              "      <td>4</td>\n",
              "      <td>R</td>\n",
              "      <td>4.9</td>\n",
              "    </tr>\n",
              "    <tr>\n",
              "      <th>1020</th>\n",
              "      <td>5</td>\n",
              "      <td>90</td>\n",
              "      <td>3</td>\n",
              "      <td>R</td>\n",
              "      <td>4.0</td>\n",
              "    </tr>\n",
              "    <tr>\n",
              "      <th>1021</th>\n",
              "      <td>5</td>\n",
              "      <td>90</td>\n",
              "      <td>4</td>\n",
              "      <td>R</td>\n",
              "      <td>4.1</td>\n",
              "    </tr>\n",
              "  </tbody>\n",
              "</table>\n",
              "<p>789 rows × 5 columns</p>\n",
              "</div>\n",
              "      <button class=\"colab-df-convert\" onclick=\"convertToInteractive('df-9783797b-f95c-4dd2-9878-36f3e31f9252')\"\n",
              "              title=\"Convert this dataframe to an interactive table.\"\n",
              "              style=\"display:none;\">\n",
              "        \n",
              "  <svg xmlns=\"http://www.w3.org/2000/svg\" height=\"24px\"viewBox=\"0 0 24 24\"\n",
              "       width=\"24px\">\n",
              "    <path d=\"M0 0h24v24H0V0z\" fill=\"none\"/>\n",
              "    <path d=\"M18.56 5.44l.94 2.06.94-2.06 2.06-.94-2.06-.94-.94-2.06-.94 2.06-2.06.94zm-11 1L8.5 8.5l.94-2.06 2.06-.94-2.06-.94L8.5 2.5l-.94 2.06-2.06.94zm10 10l.94 2.06.94-2.06 2.06-.94-2.06-.94-.94-2.06-.94 2.06-2.06.94z\"/><path d=\"M17.41 7.96l-1.37-1.37c-.4-.4-.92-.59-1.43-.59-.52 0-1.04.2-1.43.59L10.3 9.45l-7.72 7.72c-.78.78-.78 2.05 0 2.83L4 21.41c.39.39.9.59 1.41.59.51 0 1.02-.2 1.41-.59l7.78-7.78 2.81-2.81c.8-.78.8-2.07 0-2.86zM5.41 20L4 18.59l7.72-7.72 1.47 1.35L5.41 20z\"/>\n",
              "  </svg>\n",
              "      </button>\n",
              "      \n",
              "  <style>\n",
              "    .colab-df-container {\n",
              "      display:flex;\n",
              "      flex-wrap:wrap;\n",
              "      gap: 12px;\n",
              "    }\n",
              "\n",
              "    .colab-df-convert {\n",
              "      background-color: #E8F0FE;\n",
              "      border: none;\n",
              "      border-radius: 50%;\n",
              "      cursor: pointer;\n",
              "      display: none;\n",
              "      fill: #1967D2;\n",
              "      height: 32px;\n",
              "      padding: 0 0 0 0;\n",
              "      width: 32px;\n",
              "    }\n",
              "\n",
              "    .colab-df-convert:hover {\n",
              "      background-color: #E2EBFA;\n",
              "      box-shadow: 0px 1px 2px rgba(60, 64, 67, 0.3), 0px 1px 3px 1px rgba(60, 64, 67, 0.15);\n",
              "      fill: #174EA6;\n",
              "    }\n",
              "\n",
              "    [theme=dark] .colab-df-convert {\n",
              "      background-color: #3B4455;\n",
              "      fill: #D2E3FC;\n",
              "    }\n",
              "\n",
              "    [theme=dark] .colab-df-convert:hover {\n",
              "      background-color: #434B5C;\n",
              "      box-shadow: 0px 1px 3px 1px rgba(0, 0, 0, 0.15);\n",
              "      filter: drop-shadow(0px 1px 2px rgba(0, 0, 0, 0.3));\n",
              "      fill: #FFFFFF;\n",
              "    }\n",
              "  </style>\n",
              "\n",
              "      <script>\n",
              "        const buttonEl =\n",
              "          document.querySelector('#df-9783797b-f95c-4dd2-9878-36f3e31f9252 button.colab-df-convert');\n",
              "        buttonEl.style.display =\n",
              "          google.colab.kernel.accessAllowed ? 'block' : 'none';\n",
              "\n",
              "        async function convertToInteractive(key) {\n",
              "          const element = document.querySelector('#df-9783797b-f95c-4dd2-9878-36f3e31f9252');\n",
              "          const dataTable =\n",
              "            await google.colab.kernel.invokeFunction('convertToInteractive',\n",
              "                                                     [key], {});\n",
              "          if (!dataTable) return;\n",
              "\n",
              "          const docLinkHtml = 'Like what you see? Visit the ' +\n",
              "            '<a target=\"_blank\" href=https://colab.research.google.com/notebooks/data_table.ipynb>data table notebook</a>'\n",
              "            + ' to learn more about interactive tables.';\n",
              "          element.innerHTML = '';\n",
              "          dataTable['output_type'] = 'display_data';\n",
              "          await google.colab.output.renderOutput(dataTable, element);\n",
              "          const docLink = document.createElement('div');\n",
              "          docLink.innerHTML = docLinkHtml;\n",
              "          element.appendChild(docLink);\n",
              "        }\n",
              "      </script>\n",
              "    </div>\n",
              "  </div>\n",
              "  "
            ]
          },
          "metadata": {},
          "execution_count": 59
        }
      ]
    },
    {
      "cell_type": "code",
      "source": [
        "print(len(dm.x_train), len(dm.x_test))"
      ],
      "metadata": {
        "colab": {
          "base_uri": "https://localhost:8080/"
        },
        "id": "hVw7qBL9k66l",
        "outputId": "c5c205c6-9b07-4d56-e5d6-0ebeed801e35"
      },
      "execution_count": null,
      "outputs": [
        {
          "output_type": "stream",
          "name": "stdout",
          "text": [
            "631 157\n"
          ]
        }
      ]
    },
    {
      "cell_type": "code",
      "execution_count": null,
      "metadata": {
        "id": "RQjBhtBdQYlm"
      },
      "outputs": [],
      "source": [
        "# Definitions\n",
        "alpha       = 1e-5          # learning rate\n",
        "nh          = (10,6)        # nodes of hidden layers\n",
        "tmax        = 2000          # max number of iterations\n",
        "solver      = 'adam'        # optimization approach ('lbfgs','sgd', 'adam') \n",
        "nn_st       = 'NN-'+str(nh)\n",
        "activation  = 'logistic'    # 'identity', 'logistic', 'tanh', 'relu'\n",
        "\n",
        "# Training\n",
        "clf = MLPClassifier(solver=solver, alpha=alpha,hidden_layer_sizes=nh, \n",
        "                    random_state=1,max_iter=tmax, activation=activation)\n",
        "clf.fit(dm.x_train, dm.y_train)\n",
        "\n",
        "# Evaluation on training subset \n",
        "y0  = clf.predict(dm.x_train)\n",
        "    \n",
        "# Evaluation on testing subset \n",
        "ypred  = clf.predict(dm.x_test)\n"
      ]
    },
    {
      "cell_type": "code",
      "source": [
        "# clf,X,d,Xt,dt,d0,ds,st,decisionline=1\n",
        "# show_clf_results(clf,Xtrain,ytrain,Xtest,ytest,y0,ypred,nn_st,decisionline=1)"
      ],
      "metadata": {
        "id": "52xg88hEsq3s"
      },
      "execution_count": null,
      "outputs": []
    },
    {
      "cell_type": "code",
      "source": [
        "# Display results \n",
        "show_clf_results(clf,dm.x_train,dm.y_train,dm.x_test,dm.y_test,y0,ypred,nn_st,decisionline=1)"
      ],
      "metadata": {
        "colab": {
          "base_uri": "https://localhost:8080/",
          "height": 773
        },
        "id": "SKJXDoZKkw6T",
        "outputId": "26891578-cc5b-4281-abf7-8d37d4e1ff9c"
      },
      "execution_count": null,
      "outputs": [
        {
          "output_type": "stream",
          "name": "stdout",
          "text": [
            "Training:\n",
            "Confusion Matrix:\n",
            "[[  0   0   0   3   1   0   0   0]\n",
            " [  0   0   0  34  10   0   0   0]\n",
            " [  0   0   0  72  42   0   0   0]\n",
            " [  0   0   0 100  62   0   0   0]\n",
            " [  0   0   0  83  76   0   0   0]\n",
            " [  0   0   0  44  54   0   0   0]\n",
            " [  0   0   0  23  26   0   0   0]\n",
            " [  0   0   0   1   0   0   0   0]]\n",
            "Accuracy = 27.89\n",
            "Testing:\n",
            "Confusion Matrix:\n",
            "[[ 0  0 18  3  0  0  0]\n",
            " [ 0  0 32 19  0  0  0]\n",
            " [ 0  0 21 19  0  0  0]\n",
            " [ 0  0 21 10  0  0  0]\n",
            " [ 0  0  5  5  0  0  0]\n",
            " [ 0  0  1  1  0  0  0]\n",
            " [ 0  0  2  0  0  0  0]]\n",
            "Accuracy = 19.75\n"
          ]
        },
        {
          "output_type": "display_data",
          "data": {
            "text/plain": [
              "<Figure size 1296x432 with 2 Axes>"
            ],
            "image/png": "[encoded data removed]"
          },
          "metadata": {
            "needs_background": "light"
          }
        }
      ]
    },
    {
      "cell_type": "markdown",
      "source": [
        "## Video Games"
      ],
      "metadata": {
        "id": "o1rW1ACQExzM"
      }
    },
    {
      "cell_type": "code",
      "source": [
        "class VideoGames:\n",
        "  def __init__(self, filename,\n",
        "               cols:list = ['Length.Completionists.Median', 'Metrics.Used Price'], # 'release_year', \n",
        "              #  colsF:list = ['age_certification'], #,'genres' 'age_certification', \n",
        "               label = 'Metrics.Review Score',\n",
        "               labelSubd = (0,100,25), #(0,100,10), # (min,max,step) # or None\n",
        "               ptrain = 0.8 #,\n",
        "              #  cols_drop = ['description','seasons','imdb_id','tmdb_popularity','imdb_votes','tmdb_score']\n",
        "              ):\n",
        "    self.filename = f'data/{filename}.csv'\n",
        "    self.df_ini = pd.read_csv(self.filename)\n",
        "    # self.df_ini['Metrics.Used Price'] = self.df_ini['Length.All PlayStyles.Median'].fillna('APT')\n",
        "\n",
        "    cols_drop = []\n",
        "    for c in self.df_ini.columns:\n",
        "      if c not in cols+[label]: cols_drop += [c]\n",
        "    self.df = self.df_ini.drop(columns=cols_drop)\n",
        "    self.df = self.df.dropna().drop_duplicates()\n",
        "\n",
        "    self.cols = cols\n",
        "    # si usamos columnas categoricas, se deben convertir a int\n",
        "    for c in cols:\n",
        "      if self.df.dtypes[c] == object:\n",
        "        # print('obj')\n",
        "        le = LabelEncoder()\n",
        "        le.fit(self.df[c])\n",
        "        # list(le.classes_)\n",
        "        self.df[f'{c}_bk'] = self.df[c]\n",
        "        self.df[c] = le.transform(self.df[c])\n",
        "        # self.cols += [f'{c}_n']\n",
        "    \n",
        "    if labelSubd != None:\n",
        "      _min, _max, _step = labelSubd\n",
        "      bins = np.arange(_min, _max+1, _step)\n",
        "      names = np.arange( (_max - _min)/_step, dtype=int )\n",
        "      self.df.loc[self.df[label] > _max, label] = _max\n",
        "      self.df[f'{label}_bk'] = self.df[label]\n",
        "      self.df[label] = pd.cut(self.df[label], bins, labels=names)      \n",
        "\n",
        "    self.n = len(self.df)\n",
        "    self.n_train = int( self.n * ptrain )\n",
        "    # self.n_test = self.n - self.n_test\n",
        "    # df_dm[['release_year', 'age_certification', 'runtime', 'genres']]\n",
        "    self.x_train = np.array(self.df[self.cols][:self.n_train])\n",
        "    self.y_train = np.ravel(self.df[label][:self.n_train])#.astype('float')\n",
        "    # self.y_train = np.floor(self.y_train)\n",
        "    self.x_test = np.array(self.df[self.cols][self.n_train+1:])\n",
        "    self.y_test = np.ravel(self.df[label][self.n_train+1:])#.astype('float')\n",
        "    # self.y_test = np.floor(self.y_test)"
      ],
      "metadata": {
        "id": "i2iuncyv4cG-"
      },
      "execution_count": null,
      "outputs": []
    },
    {
      "cell_type": "code",
      "source": [
        "vg = VideoGames('video_games')"
      ],
      "metadata": {
        "id": "CnhkIIx0ExmC"
      },
      "execution_count": null,
      "outputs": []
    },
    {
      "cell_type": "code",
      "source": [
        "vg.x_train"
      ],
      "metadata": {
        "id": "j4MCJedxEIcp",
        "colab": {
          "base_uri": "https://localhost:8080/"
        },
        "outputId": "67dbd8b5-4355-421b-e108-2bf019a4a464"
      },
      "execution_count": null,
      "outputs": [
        {
          "output_type": "execute_result",
          "data": {
            "text/plain": [
              "array([[30.        , 24.95      ],\n",
              "       [ 0.        , 14.95      ],\n",
              "       [ 7.25      , 22.95      ],\n",
              "       ...,\n",
              "       [17.        , 16.95      ],\n",
              "       [13.5       , 16.95      ],\n",
              "       [39.16666667, 17.95      ]])"
            ]
          },
          "metadata": {},
          "execution_count": 34
        }
      ]
    },
    {
      "cell_type": "code",
      "source": [
        "vg.y_test"
      ],
      "metadata": {
        "id": "NQrkwkE-EInc",
        "colab": {
          "base_uri": "https://localhost:8080/"
        },
        "outputId": "0bccf9e7-9f85-4cea-ce80-6278e256645f"
      },
      "execution_count": null,
      "outputs": [
        {
          "output_type": "execute_result",
          "data": {
            "text/plain": [
              "array([3, 2, 2, 3, 2, 3, 3, 2, 3, 3, 3, 2, 1, 3, 2, 3, 2, 3, 2, 2, 3, 2,\n",
              "       3, 2, 3, 3, 3, 3, 2, 3, 3, 3, 2, 2, 2, 3, 2, 2, 3, 2, 2, 2, 1, 3,\n",
              "       3, 3, 3, 3, 3, 1, 2, 1, 3, 2, 2, 1, 2, 1, 2, 2, 2, 2, 2, 3, 3, 3,\n",
              "       3, 2, 2, 2, 1, 2, 3, 2, 2, 2, 1, 2, 2, 2, 2, 2, 2, 3, 2, 2, 2, 2,\n",
              "       2, 2, 2, 2, 3, 3, 2, 2, 3, 2, 2, 3, 3, 2, 3, 2, 2, 2, 3, 3, 2, 2,\n",
              "       1, 2, 3, 2, 1, 2, 2, 3, 3, 3, 2, 3, 2, 2, 2, 2, 2, 3, 2, 3, 2, 2,\n",
              "       2, 1, 2, 3, 1, 2, 3, 1, 2, 3, 3, 1, 3, 3, 1, 3, 2, 2, 3, 2, 1, 1,\n",
              "       3, 3, 2, 2, 2, 2, 2, 2, 3, 2, 3, 2, 2, 2, 2, 1, 1, 1, 2, 2, 2, 2,\n",
              "       2, 1, 1, 1, 2, 2, 2, 2, 2, 2, 1])"
            ]
          },
          "metadata": {},
          "execution_count": 35
        }
      ]
    },
    {
      "cell_type": "code",
      "source": [
        "vg.df #.dtypes['id'] == object #['Features.Handheld?'] #tmdb_popularity"
      ],
      "metadata": {
        "id": "-D_8Wm2EEIsx",
        "colab": {
          "base_uri": "https://localhost:8080/",
          "height": 424
        },
        "outputId": "ef022b0a-4141-481d-c014-df32188b2c6c"
      },
      "execution_count": null,
      "outputs": [
        {
          "output_type": "execute_result",
          "data": {
            "text/plain": [
              "     Metrics.Review Score  Metrics.Used Price  Length.Completionists.Median  \\\n",
              "0                       3               24.95                     30.000000   \n",
              "1                       3               14.95                      0.000000   \n",
              "2                       3               22.95                      7.250000   \n",
              "3                       3               12.95                      0.000000   \n",
              "4                       2               14.95                     72.566667   \n",
              "...                   ...                 ...                           ...   \n",
              "1206                    2               12.95                     12.866667   \n",
              "1207                    2               17.95                     12.000000   \n",
              "1209                    2               15.95                      0.000000   \n",
              "1210                    2               17.95                     12.000000   \n",
              "1211                    1               17.95                      1.500000   \n",
              "\n",
              "      Metrics.Review Score_bk  \n",
              "0                          85  \n",
              "1                          89  \n",
              "2                          81  \n",
              "3                          81  \n",
              "4                          61  \n",
              "...                       ...  \n",
              "1206                       67  \n",
              "1207                       71  \n",
              "1209                       51  \n",
              "1210                       64  \n",
              "1211                       39  \n",
              "\n",
              "[938 rows x 4 columns]"
            ],
            "text/html": [
              "\n",
              "  <div id=\"df-fa4f0fd7-1268-4ff7-8c4d-bcc5f7f6f766\">\n",
              "    <div class=\"colab-df-container\">\n",
              "      <div>\n",
              "<style scoped>\n",
              "    .dataframe tbody tr th:only-of-type {\n",
              "        vertical-align: middle;\n",
              "    }\n",
              "\n",
              "    .dataframe tbody tr th {\n",
              "        vertical-align: top;\n",
              "    }\n",
              "\n",
              "    .dataframe thead th {\n",
              "        text-align: right;\n",
              "    }\n",
              "</style>\n",
              "<table border=\"1\" class=\"dataframe\">\n",
              "  <thead>\n",
              "    <tr style=\"text-align: right;\">\n",
              "      <th></th>\n",
              "      <th>Metrics.Review Score</th>\n",
              "      <th>Metrics.Used Price</th>\n",
              "      <th>Length.Completionists.Median</th>\n",
              "      <th>Metrics.Review Score_bk</th>\n",
              "    </tr>\n",
              "  </thead>\n",
              "  <tbody>\n",
              "    <tr>\n",
              "      <th>0</th>\n",
              "      <td>3</td>\n",
              "      <td>24.95</td>\n",
              "      <td>30.000000</td>\n",
              "      <td>85</td>\n",
              "    </tr>\n",
              "    <tr>\n",
              "      <th>1</th>\n",
              "      <td>3</td>\n",
              "      <td>14.95</td>\n",
              "      <td>0.000000</td>\n",
              "      <td>89</td>\n",
              "    </tr>\n",
              "    <tr>\n",
              "      <th>2</th>\n",
              "      <td>3</td>\n",
              "      <td>22.95</td>\n",
              "      <td>7.250000</td>\n",
              "      <td>81</td>\n",
              "    </tr>\n",
              "    <tr>\n",
              "      <th>3</th>\n",
              "      <td>3</td>\n",
              "      <td>12.95</td>\n",
              "      <td>0.000000</td>\n",
              "      <td>81</td>\n",
              "    </tr>\n",
              "    <tr>\n",
              "      <th>4</th>\n",
              "      <td>2</td>\n",
              "      <td>14.95</td>\n",
              "      <td>72.566667</td>\n",
              "      <td>61</td>\n",
              "    </tr>\n",
              "    <tr>\n",
              "      <th>...</th>\n",
              "      <td>...</td>\n",
              "      <td>...</td>\n",
              "      <td>...</td>\n",
              "      <td>...</td>\n",
              "    </tr>\n",
              "    <tr>\n",
              "      <th>1206</th>\n",
              "      <td>2</td>\n",
              "      <td>12.95</td>\n",
              "      <td>12.866667</td>\n",
              "      <td>67</td>\n",
              "    </tr>\n",
              "    <tr>\n",
              "      <th>1207</th>\n",
              "      <td>2</td>\n",
              "      <td>17.95</td>\n",
              "      <td>12.000000</td>\n",
              "      <td>71</td>\n",
              "    </tr>\n",
              "    <tr>\n",
              "      <th>1209</th>\n",
              "      <td>2</td>\n",
              "      <td>15.95</td>\n",
              "      <td>0.000000</td>\n",
              "      <td>51</td>\n",
              "    </tr>\n",
              "    <tr>\n",
              "      <th>1210</th>\n",
              "      <td>2</td>\n",
              "      <td>17.95</td>\n",
              "      <td>12.000000</td>\n",
              "      <td>64</td>\n",
              "    </tr>\n",
              "    <tr>\n",
              "      <th>1211</th>\n",
              "      <td>1</td>\n",
              "      <td>17.95</td>\n",
              "      <td>1.500000</td>\n",
              "      <td>39</td>\n",
              "    </tr>\n",
              "  </tbody>\n",
              "</table>\n",
              "<p>938 rows × 4 columns</p>\n",
              "</div>\n",
              "      <button class=\"colab-df-convert\" onclick=\"convertToInteractive('df-fa4f0fd7-1268-4ff7-8c4d-bcc5f7f6f766')\"\n",
              "              title=\"Convert this dataframe to an interactive table.\"\n",
              "              style=\"display:none;\">\n",
              "        \n",
              "  <svg xmlns=\"http://www.w3.org/2000/svg\" height=\"24px\"viewBox=\"0 0 24 24\"\n",
              "       width=\"24px\">\n",
              "    <path d=\"M0 0h24v24H0V0z\" fill=\"none\"/>\n",
              "    <path d=\"M18.56 5.44l.94 2.06.94-2.06 2.06-.94-2.06-.94-.94-2.06-.94 2.06-2.06.94zm-11 1L8.5 8.5l.94-2.06 2.06-.94-2.06-.94L8.5 2.5l-.94 2.06-2.06.94zm10 10l.94 2.06.94-2.06 2.06-.94-2.06-.94-.94-2.06-.94 2.06-2.06.94z\"/><path d=\"M17.41 7.96l-1.37-1.37c-.4-.4-.92-.59-1.43-.59-.52 0-1.04.2-1.43.59L10.3 9.45l-7.72 7.72c-.78.78-.78 2.05 0 2.83L4 21.41c.39.39.9.59 1.41.59.51 0 1.02-.2 1.41-.59l7.78-7.78 2.81-2.81c.8-.78.8-2.07 0-2.86zM5.41 20L4 18.59l7.72-7.72 1.47 1.35L5.41 20z\"/>\n",
              "  </svg>\n",
              "      </button>\n",
              "      \n",
              "  <style>\n",
              "    .colab-df-container {\n",
              "      display:flex;\n",
              "      flex-wrap:wrap;\n",
              "      gap: 12px;\n",
              "    }\n",
              "\n",
              "    .colab-df-convert {\n",
              "      background-color: #E8F0FE;\n",
              "      border: none;\n",
              "      border-radius: 50%;\n",
              "      cursor: pointer;\n",
              "      display: none;\n",
              "      fill: #1967D2;\n",
              "      height: 32px;\n",
              "      padding: 0 0 0 0;\n",
              "      width: 32px;\n",
              "    }\n",
              "\n",
              "    .colab-df-convert:hover {\n",
              "      background-color: #E2EBFA;\n",
              "      box-shadow: 0px 1px 2px rgba(60, 64, 67, 0.3), 0px 1px 3px 1px rgba(60, 64, 67, 0.15);\n",
              "      fill: #174EA6;\n",
              "    }\n",
              "\n",
              "    [theme=dark] .colab-df-convert {\n",
              "      background-color: #3B4455;\n",
              "      fill: #D2E3FC;\n",
              "    }\n",
              "\n",
              "    [theme=dark] .colab-df-convert:hover {\n",
              "      background-color: #434B5C;\n",
              "      box-shadow: 0px 1px 3px 1px rgba(0, 0, 0, 0.15);\n",
              "      filter: drop-shadow(0px 1px 2px rgba(0, 0, 0, 0.3));\n",
              "      fill: #FFFFFF;\n",
              "    }\n",
              "  </style>\n",
              "\n",
              "      <script>\n",
              "        const buttonEl =\n",
              "          document.querySelector('#df-fa4f0fd7-1268-4ff7-8c4d-bcc5f7f6f766 button.colab-df-convert');\n",
              "        buttonEl.style.display =\n",
              "          google.colab.kernel.accessAllowed ? 'block' : 'none';\n",
              "\n",
              "        async function convertToInteractive(key) {\n",
              "          const element = document.querySelector('#df-fa4f0fd7-1268-4ff7-8c4d-bcc5f7f6f766');\n",
              "          const dataTable =\n",
              "            await google.colab.kernel.invokeFunction('convertToInteractive',\n",
              "                                                     [key], {});\n",
              "          if (!dataTable) return;\n",
              "\n",
              "          const docLinkHtml = 'Like what you see? Visit the ' +\n",
              "            '<a target=\"_blank\" href=https://colab.research.google.com/notebooks/data_table.ipynb>data table notebook</a>'\n",
              "            + ' to learn more about interactive tables.';\n",
              "          element.innerHTML = '';\n",
              "          dataTable['output_type'] = 'display_data';\n",
              "          await google.colab.output.renderOutput(dataTable, element);\n",
              "          const docLink = document.createElement('div');\n",
              "          docLink.innerHTML = docLinkHtml;\n",
              "          element.appendChild(docLink);\n",
              "        }\n",
              "      </script>\n",
              "    </div>\n",
              "  </div>\n",
              "  "
            ]
          },
          "metadata": {},
          "execution_count": 36
        }
      ]
    },
    {
      "cell_type": "code",
      "source": [
        "print(len(vg.x_train), len(vg.x_test))"
      ],
      "metadata": {
        "id": "rKwKhBj6Ehod",
        "colab": {
          "base_uri": "https://localhost:8080/"
        },
        "outputId": "38213d6f-1069-4d15-d9cd-5b9a9df03564"
      },
      "execution_count": null,
      "outputs": [
        {
          "output_type": "stream",
          "name": "stdout",
          "text": [
            "750 187\n"
          ]
        }
      ]
    },
    {
      "cell_type": "code",
      "source": [
        "# Definitions\n",
        "alpha       = 1e-5          # learning rate\n",
        "nh          = (4,2)        # nodes of hidden layers\n",
        "tmax        = 2000          # max number of iterations\n",
        "solver      = 'adam'        # optimization approach ('lbfgs','sgd', 'adam') \n",
        "nn_st       = 'NN-'+str(nh)\n",
        "activation  = 'logistic'    # 'identity', 'logistic', 'tanh', 'relu'\n",
        "\n",
        "# Training\n",
        "clf = MLPClassifier(solver=solver, alpha=alpha, hidden_layer_sizes=nh, random_state=1, max_iter=tmax, activation=activation)\n",
        "clf.fit(vg.x_train, vg.y_train)\n",
        "\n",
        "# Evaluation on training subset \n",
        "y0 = clf.predict(vg.x_train)\n",
        "    \n",
        "# Evaluation on testing subset \n",
        "ypred = clf.predict(vg.x_test)"
      ],
      "metadata": {
        "id": "n5eiDA04Enib"
      },
      "execution_count": null,
      "outputs": []
    },
    {
      "cell_type": "code",
      "source": [
        "# clf,X,d,Xt,dt,d0,ds,st,decisionline=1\n",
        "# show_clf_results(clf,Xtrain,ytrain,Xtest,ytest,y0,ypred,nn_st,decisionline=1)"
      ],
      "metadata": {
        "id": "aoHy_NbpE5u7"
      },
      "execution_count": null,
      "outputs": []
    },
    {
      "cell_type": "code",
      "source": [
        "# Display results \n",
        "show_clf_results(clf, vg.x_train, vg.y_train, vg.x_test, vg.y_test, y0, ypred, nn_st, decisionline=1)"
      ],
      "metadata": {
        "id": "xP_LikDFLxkN",
        "colab": {
          "base_uri": "https://localhost:8080/",
          "height": 620
        },
        "outputId": "4f07c389-bad1-4be8-ec4e-85504d36afa0"
      },
      "execution_count": null,
      "outputs": [
        {
          "output_type": "stream",
          "name": "stdout",
          "text": [
            "Training:\n",
            "Confusion Matrix:\n",
            "[[  0   0   3   0]\n",
            " [  0   0  61   8]\n",
            " [  0   0 289 104]\n",
            " [  0   0 155 130]]\n",
            "Accuracy = 55.87\n",
            "Testing:\n",
            "Confusion Matrix:\n",
            "[[ 0 23  1]\n",
            " [ 0 75 27]\n",
            " [ 0 25 36]]\n",
            "Accuracy = 59.36\n"
          ]
        },
        {
          "output_type": "display_data",
          "data": {
            "text/plain": [
              "<Figure size 1296x432 with 2 Axes>"
            ],
            "image/png": "[encoded data removed]"
          },
          "metadata": {
            "needs_background": "light"
          }
        }
      ]
    },
    {
      "cell_type": "markdown",
      "source": [
        "## EJEMPLO PELICULAS\n"
      ],
      "metadata": {
        "id": "A1g6Eo3xS4XH"
      }
    },
    {
      "cell_type": "code",
      "source": [
        "class Platform2:\n",
        "  def __init__(self, filename,\n",
        "               cols:list = ['critic_score', 'total_reviews'], # 'release_year', \n",
        "              #  colsF:list = ['age_certification'], #,'genres' 'age_certification', \n",
        "               label = 'people_score',\n",
        "               labelSubd = (0,10,1), #(0,100,10), # (min,max,step) # or None\n",
        "               ptrain = 0.8 #,\n",
        "              #  cols_drop = ['description','seasons','imdb_id','tmdb_popularity','imdb_votes','tmdb_score']\n",
        "              ):\n",
        "    self.filename = f'data/{filename}.csv'\n",
        "    self.df_ini = pd.read_csv(self.filename)\n",
        "    self.df_ini['total_reviews'] = self.df_ini['total_reviews']#.fillna('APT')\n",
        "\n",
        "    cols_drop = []\n",
        "    for c in self.df_ini.columns:\n",
        "      if c not in cols+[label]: cols_drop += [c]\n",
        "    self.df = self.df_ini.drop(columns=cols_drop)\n",
        "    self.df = self.df.dropna().drop_duplicates()\n",
        "\n",
        "    self.cols = cols\n",
        "    # si usamos columnas categoricas, se deben convertir a int\n",
        "    for c in cols:\n",
        "      if self.df.dtypes[c] == object:\n",
        "        # print('obj')\n",
        "        le = LabelEncoder()\n",
        "        le.fit(self.df[c])\n",
        "        # list(le.classes_)\n",
        "        self.df[f'{c}_bk'] = self.df[c]\n",
        "        self.df[c] = le.transform(self.df[c])\n",
        "        # self.cols += [f'{c}_n']\n",
        "    \n",
        "    if labelSubd != None:\n",
        "      _min, _max, _step = labelSubd\n",
        "      bins = np.arange(_min, _max+1, _step)\n",
        "      names = np.arange( (_max - _min)/_step, dtype=int )\n",
        "      self.df.loc[self.df[label] > _max, label] = _max\n",
        "      self.df[f'{label}_bk'] = self.df[label]\n",
        "      self.df[label] = pd.cut(self.df[label], bins, labels=names)      \n",
        "\n",
        "    self.n = len(self.df)\n",
        "    self.n_train = int( self.n * ptrain )\n",
        "    # self.n_test = self.n - self.n_test\n",
        "    # df_dm[['release_year', 'age_certification', 'runtime', 'genres']]\n",
        "    self.x_train = np.array(self.df[self.cols][:self.n_train])\n",
        "    self.y_train = np.ravel(self.df[label][:self.n_train])#.astype('float')\n",
        "    # self.y_train = np.floor(self.y_train)\n",
        "    self.x_test = np.array(self.df[self.cols][self.n_train+1:])\n",
        "    self.y_test = np.ravel(self.df[label][self.n_train+1:])#.astype('float')\n",
        "    # self.y_test = np.floor(self.y_test)\n",
        "    "
      ],
      "metadata": {
        "id": "Tt55n_G_TuvJ"
      },
      "execution_count": null,
      "outputs": []
    },
    {
      "cell_type": "code",
      "source": [
        "di = Platform2('peliculas')"
      ],
      "metadata": {
        "id": "LEy9QePGS6io"
      },
      "execution_count": null,
      "outputs": []
    },
    {
      "cell_type": "code",
      "source": [
        "di.x_train"
      ],
      "metadata": {
        "colab": {
          "base_uri": "https://localhost:8080/"
        },
        "id": "_TFHVcjtUi5D",
        "outputId": "e42d186a-cc23-4f8b-ec38-f8c9282c8f6d"
      },
      "execution_count": null,
      "outputs": [
        {
          "output_type": "execute_result",
          "data": {
            "text/plain": [
              "array([[ 96, 519],\n",
              "       [ 94, 538],\n",
              "       [ 97, 433],\n",
              "       ...,\n",
              "       [ 96,  79],\n",
              "       [ 94, 140],\n",
              "       [ 95,  92]])"
            ]
          },
          "metadata": {},
          "execution_count": 21
        }
      ]
    },
    {
      "cell_type": "code",
      "source": [
        "di.y_test\n"
      ],
      "metadata": {
        "colab": {
          "base_uri": "https://localhost:8080/"
        },
        "id": "eqKBX_fSUps6",
        "outputId": "b04824d5-89e3-4c52-e5ef-53e1fba9a666"
      },
      "execution_count": null,
      "outputs": [
        {
          "output_type": "execute_result",
          "data": {
            "text/plain": [
              "array([9, 9, 9, 9, 9, 9, 9, 9, 9, 9, 9, 9, 9, 9, 9, 9, 9, 9, 9, 9, 9, 9,\n",
              "       9, 9, 9, 9, 9, 9, 9, 9, 9, 9, 9, 9, 9, 9, 9, 9, 9, 9, 9, 9, 9, 9,\n",
              "       9, 9, 9, 9, 9, 9, 9, 9, 9, 9, 9, 9, 9, 9, 9, 9, 9, 9, 9, 9, 9, 9,\n",
              "       9, 9, 9, 9, 9, 9, 9, 9, 9, 9, 9, 9, 9, 9, 9, 9, 9, 9, 9, 9, 9, 9,\n",
              "       9, 9, 9, 9, 9, 9, 9, 9, 9, 9, 9, 9, 9, 9, 9, 9, 9, 9, 9, 9, 9, 9,\n",
              "       9, 9, 9, 9, 9, 9, 9, 9, 9, 9, 9, 9, 9, 9, 9, 9, 9, 9, 9, 9, 9, 9,\n",
              "       9, 9, 9, 9, 9, 9, 9, 9, 9, 9, 9, 9, 9, 9, 9, 9, 9, 9, 9, 9, 9, 9,\n",
              "       9, 9, 9, 9, 9, 9, 9, 9, 9, 9, 9, 9, 9, 9, 9, 9, 9, 9, 9, 9, 9, 9,\n",
              "       9, 9, 9, 9, 9, 9, 9, 9, 9, 9, 9, 9, 9, 9, 9, 9, 9, 9, 9])"
            ]
          },
          "metadata": {},
          "execution_count": 22
        }
      ]
    },
    {
      "cell_type": "code",
      "source": [
        "di.df"
      ],
      "metadata": {
        "colab": {
          "base_uri": "https://localhost:8080/",
          "height": 424
        },
        "id": "fvGzXjQ5UrGx",
        "outputId": "a727375d-65fa-4fd1-fb66-aad2c090a3ad"
      },
      "execution_count": null,
      "outputs": [
        {
          "output_type": "execute_result",
          "data": {
            "text/plain": [
              "      critic_score people_score  total_reviews  people_score_bk\n",
              "0               96            9            519             10.0\n",
              "1               94            9            538             10.0\n",
              "2               97            9            433             10.0\n",
              "3               97            9            427             10.0\n",
              "4               97            9            387             10.0\n",
              "...            ...          ...            ...              ...\n",
              "1605            15            9            101             10.0\n",
              "1606            16            9             55             10.0\n",
              "1607            14            9            103             10.0\n",
              "1608            12            9            152             10.0\n",
              "1609             2            9             51             10.0\n",
              "\n",
              "[978 rows x 4 columns]"
            ],
            "text/html": [
              "\n",
              "  <div id=\"df-731878b3-b701-4824-ba7b-4427195ba62b\">\n",
              "    <div class=\"colab-df-container\">\n",
              "      <div>\n",
              "<style scoped>\n",
              "    .dataframe tbody tr th:only-of-type {\n",
              "        vertical-align: middle;\n",
              "    }\n",
              "\n",
              "    .dataframe tbody tr th {\n",
              "        vertical-align: top;\n",
              "    }\n",
              "\n",
              "    .dataframe thead th {\n",
              "        text-align: right;\n",
              "    }\n",
              "</style>\n",
              "<table border=\"1\" class=\"dataframe\">\n",
              "  <thead>\n",
              "    <tr style=\"text-align: right;\">\n",
              "      <th></th>\n",
              "      <th>critic_score</th>\n",
              "      <th>people_score</th>\n",
              "      <th>total_reviews</th>\n",
              "      <th>people_score_bk</th>\n",
              "    </tr>\n",
              "  </thead>\n",
              "  <tbody>\n",
              "    <tr>\n",
              "      <th>0</th>\n",
              "      <td>96</td>\n",
              "      <td>9</td>\n",
              "      <td>519</td>\n",
              "      <td>10.0</td>\n",
              "    </tr>\n",
              "    <tr>\n",
              "      <th>1</th>\n",
              "      <td>94</td>\n",
              "      <td>9</td>\n",
              "      <td>538</td>\n",
              "      <td>10.0</td>\n",
              "    </tr>\n",
              "    <tr>\n",
              "      <th>2</th>\n",
              "      <td>97</td>\n",
              "      <td>9</td>\n",
              "      <td>433</td>\n",
              "      <td>10.0</td>\n",
              "    </tr>\n",
              "    <tr>\n",
              "      <th>3</th>\n",
              "      <td>97</td>\n",
              "      <td>9</td>\n",
              "      <td>427</td>\n",
              "      <td>10.0</td>\n",
              "    </tr>\n",
              "    <tr>\n",
              "      <th>4</th>\n",
              "      <td>97</td>\n",
              "      <td>9</td>\n",
              "      <td>387</td>\n",
              "      <td>10.0</td>\n",
              "    </tr>\n",
              "    <tr>\n",
              "      <th>...</th>\n",
              "      <td>...</td>\n",
              "      <td>...</td>\n",
              "      <td>...</td>\n",
              "      <td>...</td>\n",
              "    </tr>\n",
              "    <tr>\n",
              "      <th>1605</th>\n",
              "      <td>15</td>\n",
              "      <td>9</td>\n",
              "      <td>101</td>\n",
              "      <td>10.0</td>\n",
              "    </tr>\n",
              "    <tr>\n",
              "      <th>1606</th>\n",
              "      <td>16</td>\n",
              "      <td>9</td>\n",
              "      <td>55</td>\n",
              "      <td>10.0</td>\n",
              "    </tr>\n",
              "    <tr>\n",
              "      <th>1607</th>\n",
              "      <td>14</td>\n",
              "      <td>9</td>\n",
              "      <td>103</td>\n",
              "      <td>10.0</td>\n",
              "    </tr>\n",
              "    <tr>\n",
              "      <th>1608</th>\n",
              "      <td>12</td>\n",
              "      <td>9</td>\n",
              "      <td>152</td>\n",
              "      <td>10.0</td>\n",
              "    </tr>\n",
              "    <tr>\n",
              "      <th>1609</th>\n",
              "      <td>2</td>\n",
              "      <td>9</td>\n",
              "      <td>51</td>\n",
              "      <td>10.0</td>\n",
              "    </tr>\n",
              "  </tbody>\n",
              "</table>\n",
              "<p>978 rows × 4 columns</p>\n",
              "</div>\n",
              "      <button class=\"colab-df-convert\" onclick=\"convertToInteractive('df-731878b3-b701-4824-ba7b-4427195ba62b')\"\n",
              "              title=\"Convert this dataframe to an interactive table.\"\n",
              "              style=\"display:none;\">\n",
              "        \n",
              "  <svg xmlns=\"http://www.w3.org/2000/svg\" height=\"24px\"viewBox=\"0 0 24 24\"\n",
              "       width=\"24px\">\n",
              "    <path d=\"M0 0h24v24H0V0z\" fill=\"none\"/>\n",
              "    <path d=\"M18.56 5.44l.94 2.06.94-2.06 2.06-.94-2.06-.94-.94-2.06-.94 2.06-2.06.94zm-11 1L8.5 8.5l.94-2.06 2.06-.94-2.06-.94L8.5 2.5l-.94 2.06-2.06.94zm10 10l.94 2.06.94-2.06 2.06-.94-2.06-.94-.94-2.06-.94 2.06-2.06.94z\"/><path d=\"M17.41 7.96l-1.37-1.37c-.4-.4-.92-.59-1.43-.59-.52 0-1.04.2-1.43.59L10.3 9.45l-7.72 7.72c-.78.78-.78 2.05 0 2.83L4 21.41c.39.39.9.59 1.41.59.51 0 1.02-.2 1.41-.59l7.78-7.78 2.81-2.81c.8-.78.8-2.07 0-2.86zM5.41 20L4 18.59l7.72-7.72 1.47 1.35L5.41 20z\"/>\n",
              "  </svg>\n",
              "      </button>\n",
              "      \n",
              "  <style>\n",
              "    .colab-df-container {\n",
              "      display:flex;\n",
              "      flex-wrap:wrap;\n",
              "      gap: 12px;\n",
              "    }\n",
              "\n",
              "    .colab-df-convert {\n",
              "      background-color: #E8F0FE;\n",
              "      border: none;\n",
              "      border-radius: 50%;\n",
              "      cursor: pointer;\n",
              "      display: none;\n",
              "      fill: #1967D2;\n",
              "      height: 32px;\n",
              "      padding: 0 0 0 0;\n",
              "      width: 32px;\n",
              "    }\n",
              "\n",
              "    .colab-df-convert:hover {\n",
              "      background-color: #E2EBFA;\n",
              "      box-shadow: 0px 1px 2px rgba(60, 64, 67, 0.3), 0px 1px 3px 1px rgba(60, 64, 67, 0.15);\n",
              "      fill: #174EA6;\n",
              "    }\n",
              "\n",
              "    [theme=dark] .colab-df-convert {\n",
              "      background-color: #3B4455;\n",
              "      fill: #D2E3FC;\n",
              "    }\n",
              "\n",
              "    [theme=dark] .colab-df-convert:hover {\n",
              "      background-color: #434B5C;\n",
              "      box-shadow: 0px 1px 3px 1px rgba(0, 0, 0, 0.15);\n",
              "      filter: drop-shadow(0px 1px 2px rgba(0, 0, 0, 0.3));\n",
              "      fill: #FFFFFF;\n",
              "    }\n",
              "  </style>\n",
              "\n",
              "      <script>\n",
              "        const buttonEl =\n",
              "          document.querySelector('#df-731878b3-b701-4824-ba7b-4427195ba62b button.colab-df-convert');\n",
              "        buttonEl.style.display =\n",
              "          google.colab.kernel.accessAllowed ? 'block' : 'none';\n",
              "\n",
              "        async function convertToInteractive(key) {\n",
              "          const element = document.querySelector('#df-731878b3-b701-4824-ba7b-4427195ba62b');\n",
              "          const dataTable =\n",
              "            await google.colab.kernel.invokeFunction('convertToInteractive',\n",
              "                                                     [key], {});\n",
              "          if (!dataTable) return;\n",
              "\n",
              "          const docLinkHtml = 'Like what you see? Visit the ' +\n",
              "            '<a target=\"_blank\" href=https://colab.research.google.com/notebooks/data_table.ipynb>data table notebook</a>'\n",
              "            + ' to learn more about interactive tables.';\n",
              "          element.innerHTML = '';\n",
              "          dataTable['output_type'] = 'display_data';\n",
              "          await google.colab.output.renderOutput(dataTable, element);\n",
              "          const docLink = document.createElement('div');\n",
              "          docLink.innerHTML = docLinkHtml;\n",
              "          element.appendChild(docLink);\n",
              "        }\n",
              "      </script>\n",
              "    </div>\n",
              "  </div>\n",
              "  "
            ]
          },
          "metadata": {},
          "execution_count": 23
        }
      ]
    },
    {
      "cell_type": "code",
      "source": [
        "print(len(di.x_train), len(di.x_test))"
      ],
      "metadata": {
        "colab": {
          "base_uri": "https://localhost:8080/"
        },
        "id": "-ixQHCfFUxpM",
        "outputId": "cf009f47-58b9-46a0-8531-7b572bc23d3b"
      },
      "execution_count": null,
      "outputs": [
        {
          "output_type": "stream",
          "name": "stdout",
          "text": [
            "782 195\n"
          ]
        }
      ]
    },
    {
      "cell_type": "code",
      "source": [
        "alpha       = 1e-5          # learning rate\n",
        "nh          = (10,6)        # nodes of hidden layers\n",
        "tmax        = 2000          # max number of iterations\n",
        "solver      = 'adam'        # optimization approach ('lbfgs','sgd', 'adam') \n",
        "nn_st       = 'NN-'+str(nh)\n",
        "activation  = 'logistic'    # 'identity', 'logistic', 'tanh', 'relu'\n",
        "\n",
        "# Training\n",
        "clf = MLPClassifier(solver=solver, alpha=alpha, hidden_layer_sizes=nh, random_state=1, max_iter=tmax, activation=activation)\n",
        "clf.fit(di.x_train, di.y_train)\n",
        "\n",
        "# Evaluation on training subset \n",
        "y0 = clf.predict(di.x_train)\n",
        "    \n",
        "# Evaluation on testing subset \n",
        "ypred = clf.predict(di.x_test)"
      ],
      "metadata": {
        "id": "s9Fvco5UU2Na"
      },
      "execution_count": null,
      "outputs": []
    },
    {
      "cell_type": "code",
      "source": [
        "show_clf_results(clf,di.x_train,di.y_train,di.x_test,di.y_test,y0,ypred,nn_st,decisionline=1)"
      ],
      "metadata": {
        "colab": {
          "base_uri": "https://localhost:8080/",
          "height": 489
        },
        "id": "fXlh1uy8U9Cb",
        "outputId": "d80b18b7-5690-4a7a-a7e0-b3f037b23f79"
      },
      "execution_count": null,
      "outputs": [
        {
          "output_type": "stream",
          "name": "stdout",
          "text": [
            "Training:\n",
            "Confusion Matrix:\n",
            "[[782]]\n",
            "Accuracy = 100.00\n",
            "Testing:\n",
            "Confusion Matrix:\n",
            "[[195]]\n",
            "Accuracy = 100.00\n"
          ]
        },
        {
          "output_type": "display_data",
          "data": {
            "text/plain": [
              "<Figure size 1296x432 with 2 Axes>"
            ],
            "image/png": "[encoded data removed]"
          },
          "metadata": {
            "needs_background": "light"
          }
        }
      ]
    },
    {
      "cell_type": "markdown",
      "source": [
        "## CRUNCHYROLL\n",
        "\n"
      ],
      "metadata": {
        "id": "b4DUc2-77zCh"
      }
    },
    {
      "cell_type": "code",
      "source": [
        "class PlatformCrunchyroll:\n",
        "  def __init__(self, filename,\n",
        "               cols:list = ['runtime', 'age_certification'], # 'release_year', \n",
        "              #  colsF:list = ['age_certification'], #,'genres' 'age_certification', \n",
        "               label = 'imdb_score',\n",
        "               labelSubd = (0,10,1), #(0,100,10), # (min,max,step) # or None\n",
        "               ptrain = 0.8 #,\n",
        "              #  cols_drop = ['description','seasons','imdb_id','tmdb_popularity','imdb_votes','tmdb_score']\n",
        "              ):\n",
        "    self.filename = f'data/{filename}.csv'\n",
        "    self.df_ini = pd.read_csv(self.filename)\n",
        "    self.df_ini['age_certification'] = self.df_ini['age_certification'].fillna('APT')\n",
        "\n",
        "    cols_drop = []\n",
        "    for c in self.df_ini.columns:\n",
        "      if c not in cols+[label]: cols_drop += [c]\n",
        "    self.df = self.df_ini.drop(columns=cols_drop)\n",
        "    self.df = self.df.dropna().drop_duplicates()\n",
        "\n",
        "    self.cols = cols\n",
        "    # si usamos columnas categoricas, se deben convertir a int\n",
        "    for c in cols:\n",
        "      if self.df.dtypes[c] == object:\n",
        "        # print('obj')\n",
        "        le = LabelEncoder()\n",
        "        le.fit(self.df[c])\n",
        "        # list(le.classes_)\n",
        "        self.df[f'{c}_bk'] = self.df[c]\n",
        "        self.df[c] = le.transform(self.df[c])\n",
        "        # self.cols += [f'{c}_n']\n",
        "    \n",
        "    if labelSubd != None:\n",
        "      _min, _max, _step = labelSubd\n",
        "      bins = np.arange(_min, _max+1, _step)\n",
        "      names = np.arange( (_max - _min)/_step, dtype=int )\n",
        "      self.df.loc[self.df[label] > _max, label] = _max\n",
        "      self.df[f'{label}_bk'] = self.df[label]\n",
        "      self.df[label] = pd.cut(self.df[label], bins, labels=names)      \n",
        "\n",
        "    self.n = len(self.df)\n",
        "    self.n_train = int( self.n * ptrain )\n",
        "    # self.n_test = self.n - self.n_test\n",
        "    # df_dm[['release_year', 'age_certification', 'runtime', 'genres']]\n",
        "    self.x_train = np.array(self.df[self.cols][:self.n_train])\n",
        "    self.y_train = np.ravel(self.df[label][:self.n_train])#.astype('float')\n",
        "    # self.y_train = np.floor(self.y_train)\n",
        "    self.x_test = np.array(self.df[self.cols][self.n_train+1:])\n",
        "    self.y_test = np.ravel(self.df[label][self.n_train+1:])#.astype('float')\n",
        "    # self.y_test = np.floor(self.y_test)"
      ],
      "metadata": {
        "id": "DR41NNgx8Xub"
      },
      "execution_count": null,
      "outputs": []
    },
    {
      "cell_type": "code",
      "source": [
        "cr = PlatformCrunchyroll('crunchyroll_titles')"
      ],
      "metadata": {
        "id": "_hw7qt5F79D0"
      },
      "execution_count": null,
      "outputs": []
    },
    {
      "cell_type": "code",
      "source": [
        "cr.x_train"
      ],
      "metadata": {
        "colab": {
          "base_uri": "https://localhost:8080/"
        },
        "id": "nDv9A0Vn8iEx",
        "outputId": "539f1912-b843-4511-ddfb-ecb2a8badd42"
      },
      "execution_count": null,
      "outputs": [
        {
          "output_type": "execute_result",
          "data": {
            "text/plain": [
              "array([[ 23,   2],\n",
              "       [ 25,   7],\n",
              "       [ 24,   5],\n",
              "       [ 24,   2],\n",
              "       [ 24,   5],\n",
              "       [ 25,   5],\n",
              "       [ 29,   0],\n",
              "       [ 23,   0],\n",
              "       [ 24,   3],\n",
              "       [ 24,   0],\n",
              "       [  7,   0],\n",
              "       [ 24,   5],\n",
              "       [ 24,   2],\n",
              "       [ 25,   4],\n",
              "       [ 24,   0],\n",
              "       [ 24,   7],\n",
              "       [ 27,   0],\n",
              "       [ 25,   0],\n",
              "       [ 25,   0],\n",
              "       [ 25,   0],\n",
              "       [ 24,   0],\n",
              "       [ 24,   0],\n",
              "       [ 24,   3],\n",
              "       [ 23,   0],\n",
              "       [ 24,   0],\n",
              "       [ 23,   2],\n",
              "       [ 25,   2],\n",
              "       [ 23,   4],\n",
              "       [ 23,   2],\n",
              "       [ 24,   4],\n",
              "       [ 22,   6],\n",
              "       [ 25,   2],\n",
              "       [ 25,   2],\n",
              "       [ 25,   2],\n",
              "       [ 24,   5],\n",
              "       [ 24,   7],\n",
              "       [ 24,   2],\n",
              "       [ 25,   7],\n",
              "       [ 25,   5],\n",
              "       [ 23,   5],\n",
              "       [ 90,   0],\n",
              "       [ 24,   0],\n",
              "       [ 23,   2],\n",
              "       [ 22,   5],\n",
              "       [ 25,   2],\n",
              "       [ 31,   0],\n",
              "       [ 23,   0],\n",
              "       [ 23,   5],\n",
              "       [ 22,   4],\n",
              "       [ 28,   0],\n",
              "       [ 25,   4],\n",
              "       [ 23,   2],\n",
              "       [ 23,   2],\n",
              "       [ 29,   5],\n",
              "       [ 27,   0],\n",
              "       [ 35,   2],\n",
              "       [ 27,   0],\n",
              "       [ 23,   0],\n",
              "       [ 24,   3],\n",
              "       [ 24,   2],\n",
              "       [ 25,   2],\n",
              "       [ 22,   0],\n",
              "       [ 23,   0],\n",
              "       [ 25,   5],\n",
              "       [ 24,   2],\n",
              "       [ 29,   2],\n",
              "       [ 23,   2],\n",
              "       [ 24,   2],\n",
              "       [ 23,   5],\n",
              "       [ 24,   2],\n",
              "       [ 23,   4],\n",
              "       [ 24,   2],\n",
              "       [ 24,   2],\n",
              "       [ 24,   2],\n",
              "       [ 25,   2],\n",
              "       [ 24,   4],\n",
              "       [ 30,   2],\n",
              "       [ 23,   4],\n",
              "       [ 25,   0],\n",
              "       [ 23,   6],\n",
              "       [ 23,   5],\n",
              "       [ 24,   2],\n",
              "       [ 23,   4],\n",
              "       [ 26,   2],\n",
              "       [ 22,   2],\n",
              "       [ 22,   4],\n",
              "       [ 23,   2],\n",
              "       [ 29,   0],\n",
              "       [ 23,   2],\n",
              "       [ 22,   3],\n",
              "       [ 24,   5],\n",
              "       [ 23,   2],\n",
              "       [ 24,   4],\n",
              "       [ 23,   5],\n",
              "       [ 11,   2],\n",
              "       [ 25,   2],\n",
              "       [ 26,   0],\n",
              "       [ 25,   4],\n",
              "       [ 23,   4],\n",
              "       [ 24,   2],\n",
              "       [ 62,   2],\n",
              "       [ 24,   7],\n",
              "       [ 24,   2],\n",
              "       [  7,   0],\n",
              "       [105,   1],\n",
              "       [ 25,   5],\n",
              "       [ 22,   2],\n",
              "       [ 24,   7],\n",
              "       [ 23,   3],\n",
              "       [ 24,   5],\n",
              "       [ 24,   0],\n",
              "       [ 25,   4],\n",
              "       [ 30,   2],\n",
              "       [ 24,   2],\n",
              "       [ 23,   0],\n",
              "       [ 26,   4],\n",
              "       [ 18,   0],\n",
              "       [ 25,   5],\n",
              "       [ 25,   2],\n",
              "       [ 24,   0],\n",
              "       [ 31,   0],\n",
              "       [ 25,   0],\n",
              "       [ 24,   4],\n",
              "       [ 24,   2],\n",
              "       [ 20,   2],\n",
              "       [ 25,   5],\n",
              "       [ 24,   3],\n",
              "       [ 24,   5],\n",
              "       [ 24,   5],\n",
              "       [ 25,   2],\n",
              "       [ 24,   0],\n",
              "       [ 23,   2],\n",
              "       [ 22,   2],\n",
              "       [ 23,   4],\n",
              "       [ 25,   3],\n",
              "       [ 26,   0],\n",
              "       [ 23,   0],\n",
              "       [ 25,   2],\n",
              "       [ 24,   2],\n",
              "       [ 24,   2],\n",
              "       [ 24,   0],\n",
              "       [ 26,   5],\n",
              "       [ 23,   0],\n",
              "       [ 24,   0],\n",
              "       [ 24,   7],\n",
              "       [ 24,   2],\n",
              "       [ 24,   5],\n",
              "       [ 24,   2],\n",
              "       [ 26,   5],\n",
              "       [ 22,   0],\n",
              "       [ 25,   2],\n",
              "       [ 40,   0],\n",
              "       [ 23,   2],\n",
              "       [ 25,   0],\n",
              "       [ 26,   2],\n",
              "       [ 24,   4],\n",
              "       [ 23,   0],\n",
              "       [ 24,   5],\n",
              "       [ 22,   2],\n",
              "       [ 24,   2],\n",
              "       [ 25,   0],\n",
              "       [ 25,   0],\n",
              "       [ 25,   5],\n",
              "       [ 23,   0],\n",
              "       [ 25,   5],\n",
              "       [ 25,   0],\n",
              "       [ 26,   0],\n",
              "       [ 26,   2],\n",
              "       [ 26,   7],\n",
              "       [ 24,   5],\n",
              "       [ 24,   0],\n",
              "       [ 26,   2],\n",
              "       [ 23,   2],\n",
              "       [ 24,   4],\n",
              "       [ 24,   2],\n",
              "       [ 23,   4],\n",
              "       [ 25,   4],\n",
              "       [ 22,   4],\n",
              "       [ 25,   4],\n",
              "       [ 22,   2],\n",
              "       [ 23,   5],\n",
              "       [ 24,   2],\n",
              "       [ 26,   5],\n",
              "       [ 27,   0],\n",
              "       [ 25,   0],\n",
              "       [ 24,   2],\n",
              "       [ 24,   5],\n",
              "       [ 23,   2],\n",
              "       [ 24,   4],\n",
              "       [ 14,   0],\n",
              "       [ 22,   7],\n",
              "       [ 24,   5],\n",
              "       [ 26,   5],\n",
              "       [ 23,   7],\n",
              "       [ 25,   2],\n",
              "       [ 23,   0],\n",
              "       [ 24,   2],\n",
              "       [ 23,   2],\n",
              "       [ 27,   4],\n",
              "       [  2,   0],\n",
              "       [ 25,   0],\n",
              "       [ 24,   4],\n",
              "       [  4,   0],\n",
              "       [ 24,   0],\n",
              "       [ 23,   0],\n",
              "       [ 23,   4],\n",
              "       [ 25,   0],\n",
              "       [ 13,   0],\n",
              "       [  3,   2],\n",
              "       [ 24,   4],\n",
              "       [ 13,   0],\n",
              "       [  5,   0],\n",
              "       [  3,   2],\n",
              "       [  2,   5],\n",
              "       [  4,   0],\n",
              "       [ 24,   4],\n",
              "       [ 24,   4],\n",
              "       [ 22,   5],\n",
              "       [ 22,   4],\n",
              "       [ 25,   4],\n",
              "       [ 16,   5],\n",
              "       [ 26,   2],\n",
              "       [ 24,   2],\n",
              "       [ 23,   2],\n",
              "       [ 24,   2],\n",
              "       [ 23,   2],\n",
              "       [ 24,   4],\n",
              "       [ 23,   2],\n",
              "       [ 23,   5],\n",
              "       [ 24,   4],\n",
              "       [ 22,   2],\n",
              "       [ 22,   7],\n",
              "       [ 23,   2],\n",
              "       [ 24,   2],\n",
              "       [ 23,   2],\n",
              "       [ 23,   2],\n",
              "       [ 24,   4],\n",
              "       [ 23,   4],\n",
              "       [ 22,   4],\n",
              "       [ 23,   5],\n",
              "       [  3,   0],\n",
              "       [ 23,   0],\n",
              "       [ 23,   2],\n",
              "       [  7,   2],\n",
              "       [ 22,   4],\n",
              "       [  3,   2],\n",
              "       [  4,   4],\n",
              "       [ 23,   4],\n",
              "       [ 23,   0],\n",
              "       [ 24,   0],\n",
              "       [  3,   2],\n",
              "       [ 24,   4],\n",
              "       [ 23,   2],\n",
              "       [ 23,   3],\n",
              "       [ 10,   0],\n",
              "       [  4,   0],\n",
              "       [ 30,   2],\n",
              "       [  7,   5],\n",
              "       [  3,   0],\n",
              "       [ 24,   4],\n",
              "       [ 24,   5],\n",
              "       [  5,   0],\n",
              "       [ 24,   0],\n",
              "       [  4,   0],\n",
              "       [  1,   0],\n",
              "       [  4,   0],\n",
              "       [  3,   0],\n",
              "       [  5,   0],\n",
              "       [ 23,   5],\n",
              "       [ 21,   0],\n",
              "       [  7,   2],\n",
              "       [ 22,   7],\n",
              "       [ 22,   0],\n",
              "       [  3,   0],\n",
              "       [ 12,   5],\n",
              "       [ 23,   2],\n",
              "       [  3,   2],\n",
              "       [ 12,   2],\n",
              "       [ 24,   0],\n",
              "       [ 24,   5],\n",
              "       [ 24,   4],\n",
              "       [ 25,   4],\n",
              "       [ 27,   4],\n",
              "       [ 23,   4],\n",
              "       [ 22,   2],\n",
              "       [ 24,   4],\n",
              "       [ 25,   4],\n",
              "       [ 24,   4],\n",
              "       [ 25,   5],\n",
              "       [ 25,   4],\n",
              "       [ 17,   2],\n",
              "       [ 24,   5],\n",
              "       [ 23,   2],\n",
              "       [  5,   2],\n",
              "       [ 23,   4],\n",
              "       [ 18,   5],\n",
              "       [ 23,   0],\n",
              "       [ 24,   4],\n",
              "       [ 25,   2],\n",
              "       [ 23,   0],\n",
              "       [ 24,   4],\n",
              "       [ 24,   4],\n",
              "       [ 24,   5],\n",
              "       [ 12,   2],\n",
              "       [ 24,   4],\n",
              "       [ 23,   0],\n",
              "       [ 24,   4],\n",
              "       [ 23,   5],\n",
              "       [ 23,   0],\n",
              "       [  7,   2],\n",
              "       [ 29,   4],\n",
              "       [ 30,   0],\n",
              "       [ 25,   5],\n",
              "       [ 21,   4],\n",
              "       [  3,   3],\n",
              "       [ 24,   4],\n",
              "       [ 11,   2],\n",
              "       [ 24,   0],\n",
              "       [  5,   0],\n",
              "       [ 22,   2],\n",
              "       [ 24,   3],\n",
              "       [  3,   4],\n",
              "       [ 24,   2],\n",
              "       [  3,   0],\n",
              "       [ 60,   0],\n",
              "       [ 25,   5],\n",
              "       [  9,   0],\n",
              "       [ 24,   0],\n",
              "       [ 24,   5],\n",
              "       [ 23,   4],\n",
              "       [  7,   0],\n",
              "       [ 24,   0],\n",
              "       [  7,   0],\n",
              "       [  2,   5],\n",
              "       [ 23,   0],\n",
              "       [ 10,   5],\n",
              "       [  3,   0],\n",
              "       [195,   0],\n",
              "       [ 23,   4],\n",
              "       [ 13,   0],\n",
              "       [ 12,   0],\n",
              "       [  9,   0],\n",
              "       [  3,   2],\n",
              "       [  3,   0],\n",
              "       [  5,   0],\n",
              "       [  4,   0],\n",
              "       [  3,   0],\n",
              "       [ 23,   2],\n",
              "       [ 11,   0],\n",
              "       [  4,   2],\n",
              "       [  9,   0],\n",
              "       [  8,   5],\n",
              "       [  2,   0],\n",
              "       [  7,   0],\n",
              "       [  2,   0],\n",
              "       [  3,   0],\n",
              "       [ 23,   3],\n",
              "       [  3,   4],\n",
              "       [  2,   5],\n",
              "       [  3,   0],\n",
              "       [ 23,   5],\n",
              "       [ 23,   2],\n",
              "       [ 23,   5],\n",
              "       [ 30,   2],\n",
              "       [ 25,   2],\n",
              "       [ 22,   2],\n",
              "       [ 24,   4],\n",
              "       [ 28,   2],\n",
              "       [ 23,   4],\n",
              "       [ 54,   0],\n",
              "       [ 23,   4],\n",
              "       [ 25,   5],\n",
              "       [ 12,   0],\n",
              "       [ 33,   2],\n",
              "       [ 25,   0],\n",
              "       [ 20,   2],\n",
              "       [ 40,   5],\n",
              "       [ 12,   2],\n",
              "       [ 23,   4],\n",
              "       [ 23,   0],\n",
              "       [  4,   0],\n",
              "       [ 15,   0],\n",
              "       [ 23,   5],\n",
              "       [  4,   2],\n",
              "       [ 11,   0],\n",
              "       [ 22,   2],\n",
              "       [ 18,   0],\n",
              "       [  9,   4],\n",
              "       [ 23,   0],\n",
              "       [ 10,   0],\n",
              "       [ 23,   5],\n",
              "       [ 23,   4],\n",
              "       [  3,   5],\n",
              "       [ 24,   0],\n",
              "       [ 42,   2],\n",
              "       [ 24,   2],\n",
              "       [ 23,   2],\n",
              "       [ 24,   2],\n",
              "       [ 25,   4],\n",
              "       [ 24,   4],\n",
              "       [ 23,   0],\n",
              "       [ 23,   2],\n",
              "       [  3,   0],\n",
              "       [ 21,   0],\n",
              "       [ 23,   4],\n",
              "       [ 25,   2],\n",
              "       [ 24,   2],\n",
              "       [  4,   0]])"
            ]
          },
          "metadata": {},
          "execution_count": 114
        }
      ]
    },
    {
      "cell_type": "code",
      "source": [
        "cr.y_test"
      ],
      "metadata": {
        "colab": {
          "base_uri": "https://localhost:8080/"
        },
        "id": "OySLmYHZ8ljT",
        "outputId": "2e2287b2-8347-4da2-f4e2-e1e3d149a5c2"
      },
      "execution_count": null,
      "outputs": [
        {
          "output_type": "execute_result",
          "data": {
            "text/plain": [
              "array([4, 6, 5, 7, 6, 3, 5, 5, 7, 4, 3, 7, 5, 6, 4, 5, 6, 3, 5, 3, 6, 5,\n",
              "       8, 2, 6, 5, 5, 4, 5, 7, 6, 4, 5, 5, 6, 8, 8, 8, 8, 6, 6, 7, 8, 5,\n",
              "       7, 6, 5, 6, 7, 7, 8, 6, 7, 4, 6, 6, 6, 6, 5, 5, 6, 5, 4, 6, 5, 4,\n",
              "       4, 6, 5, 7, 5, 5, 6, 5, 4, 5, 6, 5, 5, 8, 8, 7, 5, 6, 4, 6, 7, 6,\n",
              "       7, 5, 1, 6, 6, 1, 6, 5, 6, 4, 7, 5, 3, 4])"
            ]
          },
          "metadata": {},
          "execution_count": 115
        }
      ]
    },
    {
      "cell_type": "code",
      "source": [
        "cr.df #.dtypes['id'] == object #['imdb_score'] #tmdb_popularity"
      ],
      "metadata": {
        "colab": {
          "base_uri": "https://localhost:8080/",
          "height": 424
        },
        "id": "hly7sEVP8pND",
        "outputId": "092b2fe4-34ea-44cd-e520-6a38a6f15f0d"
      },
      "execution_count": null,
      "outputs": [
        {
          "output_type": "execute_result",
          "data": {
            "text/plain": [
              "      age_certification  runtime imdb_score age_certification_bk  \\\n",
              "0                     2       23          7                TV-14   \n",
              "1                     7       25          7                TV-Y7   \n",
              "2                     5       24          7                TV-PG   \n",
              "3                     2       24          7                TV-14   \n",
              "4                     5       24          8                TV-PG   \n",
              "...                 ...      ...        ...                  ...   \n",
              "1070                  2       24          4                TV-14   \n",
              "1074                  0       25          7                  APT   \n",
              "1078                  0        2          5                  APT   \n",
              "1079                  0        1          3                  APT   \n",
              "1080                  2        8          4                TV-14   \n",
              "\n",
              "      imdb_score_bk  \n",
              "0               7.9  \n",
              "1               7.9  \n",
              "2               7.8  \n",
              "3               8.0  \n",
              "4               8.1  \n",
              "...             ...  \n",
              "1070            5.0  \n",
              "1074            7.4  \n",
              "1078            5.6  \n",
              "1079            4.0  \n",
              "1080            4.7  \n",
              "\n",
              "[511 rows x 5 columns]"
            ],
            "text/html": [
              "\n",
              "  <div id=\"df-9731e258-4cfb-420e-9404-5194258f44b1\">\n",
              "    <div class=\"colab-df-container\">\n",
              "      <div>\n",
              "<style scoped>\n",
              "    .dataframe tbody tr th:only-of-type {\n",
              "        vertical-align: middle;\n",
              "    }\n",
              "\n",
              "    .dataframe tbody tr th {\n",
              "        vertical-align: top;\n",
              "    }\n",
              "\n",
              "    .dataframe thead th {\n",
              "        text-align: right;\n",
              "    }\n",
              "</style>\n",
              "<table border=\"1\" class=\"dataframe\">\n",
              "  <thead>\n",
              "    <tr style=\"text-align: right;\">\n",
              "      <th></th>\n",
              "      <th>age_certification</th>\n",
              "      <th>runtime</th>\n",
              "      <th>imdb_score</th>\n",
              "      <th>age_certification_bk</th>\n",
              "      <th>imdb_score_bk</th>\n",
              "    </tr>\n",
              "  </thead>\n",
              "  <tbody>\n",
              "    <tr>\n",
              "      <th>0</th>\n",
              "      <td>2</td>\n",
              "      <td>23</td>\n",
              "      <td>7</td>\n",
              "      <td>TV-14</td>\n",
              "      <td>7.9</td>\n",
              "    </tr>\n",
              "    <tr>\n",
              "      <th>1</th>\n",
              "      <td>7</td>\n",
              "      <td>25</td>\n",
              "      <td>7</td>\n",
              "      <td>TV-Y7</td>\n",
              "      <td>7.9</td>\n",
              "    </tr>\n",
              "    <tr>\n",
              "      <th>2</th>\n",
              "      <td>5</td>\n",
              "      <td>24</td>\n",
              "      <td>7</td>\n",
              "      <td>TV-PG</td>\n",
              "      <td>7.8</td>\n",
              "    </tr>\n",
              "    <tr>\n",
              "      <th>3</th>\n",
              "      <td>2</td>\n",
              "      <td>24</td>\n",
              "      <td>7</td>\n",
              "      <td>TV-14</td>\n",
              "      <td>8.0</td>\n",
              "    </tr>\n",
              "    <tr>\n",
              "      <th>4</th>\n",
              "      <td>5</td>\n",
              "      <td>24</td>\n",
              "      <td>8</td>\n",
              "      <td>TV-PG</td>\n",
              "      <td>8.1</td>\n",
              "    </tr>\n",
              "    <tr>\n",
              "      <th>...</th>\n",
              "      <td>...</td>\n",
              "      <td>...</td>\n",
              "      <td>...</td>\n",
              "      <td>...</td>\n",
              "      <td>...</td>\n",
              "    </tr>\n",
              "    <tr>\n",
              "      <th>1070</th>\n",
              "      <td>2</td>\n",
              "      <td>24</td>\n",
              "      <td>4</td>\n",
              "      <td>TV-14</td>\n",
              "      <td>5.0</td>\n",
              "    </tr>\n",
              "    <tr>\n",
              "      <th>1074</th>\n",
              "      <td>0</td>\n",
              "      <td>25</td>\n",
              "      <td>7</td>\n",
              "      <td>APT</td>\n",
              "      <td>7.4</td>\n",
              "    </tr>\n",
              "    <tr>\n",
              "      <th>1078</th>\n",
              "      <td>0</td>\n",
              "      <td>2</td>\n",
              "      <td>5</td>\n",
              "      <td>APT</td>\n",
              "      <td>5.6</td>\n",
              "    </tr>\n",
              "    <tr>\n",
              "      <th>1079</th>\n",
              "      <td>0</td>\n",
              "      <td>1</td>\n",
              "      <td>3</td>\n",
              "      <td>APT</td>\n",
              "      <td>4.0</td>\n",
              "    </tr>\n",
              "    <tr>\n",
              "      <th>1080</th>\n",
              "      <td>2</td>\n",
              "      <td>8</td>\n",
              "      <td>4</td>\n",
              "      <td>TV-14</td>\n",
              "      <td>4.7</td>\n",
              "    </tr>\n",
              "  </tbody>\n",
              "</table>\n",
              "<p>511 rows × 5 columns</p>\n",
              "</div>\n",
              "      <button class=\"colab-df-convert\" onclick=\"convertToInteractive('df-9731e258-4cfb-420e-9404-5194258f44b1')\"\n",
              "              title=\"Convert this dataframe to an interactive table.\"\n",
              "              style=\"display:none;\">\n",
              "        \n",
              "  <svg xmlns=\"http://www.w3.org/2000/svg\" height=\"24px\"viewBox=\"0 0 24 24\"\n",
              "       width=\"24px\">\n",
              "    <path d=\"M0 0h24v24H0V0z\" fill=\"none\"/>\n",
              "    <path d=\"M18.56 5.44l.94 2.06.94-2.06 2.06-.94-2.06-.94-.94-2.06-.94 2.06-2.06.94zm-11 1L8.5 8.5l.94-2.06 2.06-.94-2.06-.94L8.5 2.5l-.94 2.06-2.06.94zm10 10l.94 2.06.94-2.06 2.06-.94-2.06-.94-.94-2.06-.94 2.06-2.06.94z\"/><path d=\"M17.41 7.96l-1.37-1.37c-.4-.4-.92-.59-1.43-.59-.52 0-1.04.2-1.43.59L10.3 9.45l-7.72 7.72c-.78.78-.78 2.05 0 2.83L4 21.41c.39.39.9.59 1.41.59.51 0 1.02-.2 1.41-.59l7.78-7.78 2.81-2.81c.8-.78.8-2.07 0-2.86zM5.41 20L4 18.59l7.72-7.72 1.47 1.35L5.41 20z\"/>\n",
              "  </svg>\n",
              "      </button>\n",
              "      \n",
              "  <style>\n",
              "    .colab-df-container {\n",
              "      display:flex;\n",
              "      flex-wrap:wrap;\n",
              "      gap: 12px;\n",
              "    }\n",
              "\n",
              "    .colab-df-convert {\n",
              "      background-color: #E8F0FE;\n",
              "      border: none;\n",
              "      border-radius: 50%;\n",
              "      cursor: pointer;\n",
              "      display: none;\n",
              "      fill: #1967D2;\n",
              "      height: 32px;\n",
              "      padding: 0 0 0 0;\n",
              "      width: 32px;\n",
              "    }\n",
              "\n",
              "    .colab-df-convert:hover {\n",
              "      background-color: #E2EBFA;\n",
              "      box-shadow: 0px 1px 2px rgba(60, 64, 67, 0.3), 0px 1px 3px 1px rgba(60, 64, 67, 0.15);\n",
              "      fill: #174EA6;\n",
              "    }\n",
              "\n",
              "    [theme=dark] .colab-df-convert {\n",
              "      background-color: #3B4455;\n",
              "      fill: #D2E3FC;\n",
              "    }\n",
              "\n",
              "    [theme=dark] .colab-df-convert:hover {\n",
              "      background-color: #434B5C;\n",
              "      box-shadow: 0px 1px 3px 1px rgba(0, 0, 0, 0.15);\n",
              "      filter: drop-shadow(0px 1px 2px rgba(0, 0, 0, 0.3));\n",
              "      fill: #FFFFFF;\n",
              "    }\n",
              "  </style>\n",
              "\n",
              "      <script>\n",
              "        const buttonEl =\n",
              "          document.querySelector('#df-9731e258-4cfb-420e-9404-5194258f44b1 button.colab-df-convert');\n",
              "        buttonEl.style.display =\n",
              "          google.colab.kernel.accessAllowed ? 'block' : 'none';\n",
              "\n",
              "        async function convertToInteractive(key) {\n",
              "          const element = document.querySelector('#df-9731e258-4cfb-420e-9404-5194258f44b1');\n",
              "          const dataTable =\n",
              "            await google.colab.kernel.invokeFunction('convertToInteractive',\n",
              "                                                     [key], {});\n",
              "          if (!dataTable) return;\n",
              "\n",
              "          const docLinkHtml = 'Like what you see? Visit the ' +\n",
              "            '<a target=\"_blank\" href=https://colab.research.google.com/notebooks/data_table.ipynb>data table notebook</a>'\n",
              "            + ' to learn more about interactive tables.';\n",
              "          element.innerHTML = '';\n",
              "          dataTable['output_type'] = 'display_data';\n",
              "          await google.colab.output.renderOutput(dataTable, element);\n",
              "          const docLink = document.createElement('div');\n",
              "          docLink.innerHTML = docLinkHtml;\n",
              "          element.appendChild(docLink);\n",
              "        }\n",
              "      </script>\n",
              "    </div>\n",
              "  </div>\n",
              "  "
            ]
          },
          "metadata": {},
          "execution_count": 103
        }
      ]
    },
    {
      "cell_type": "code",
      "source": [
        "print(len(cr.x_train), len(cr.x_test))"
      ],
      "metadata": {
        "colab": {
          "base_uri": "https://localhost:8080/"
        },
        "id": "83e15RrM8unA",
        "outputId": "e0164171-18d3-4159-fee1-027ba7f5c367"
      },
      "execution_count": null,
      "outputs": [
        {
          "output_type": "stream",
          "name": "stdout",
          "text": [
            "408 102\n"
          ]
        }
      ]
    },
    {
      "cell_type": "code",
      "source": [
        "# Definitions\n",
        "alpha       = 1e-5          # learning rate\n",
        "nh          = (85,75)        # nodes of hidden layers\n",
        "tmax        = 5000          # max number of iterations\n",
        "solver      = 'lbfgs'        # optimization approach ('lbfgs','sgd', 'adam') \n",
        "nn_st       = 'NN-'+str(nh)\n",
        "activation  = 'tanh'    # 'identity', 'logistic', 'tanh', 'relu'\n",
        "\n",
        "# Training\n",
        "clf = MLPClassifier(solver=solver, alpha=alpha, hidden_layer_sizes=nh, random_state=1, max_iter=tmax, activation=activation)\n",
        "clf.fit(cr.x_train, cr.y_train)\n",
        "\n",
        "# Evaluation on training subset \n",
        "y0 = clf.predict(cr.x_train)\n",
        "    \n",
        "# Evaluation on testing subset \n",
        "ypred = clf.predict(cr.x_test)"
      ],
      "metadata": {
        "colab": {
          "base_uri": "https://localhost:8080/"
        },
        "id": "hJE3zExZ8viy",
        "outputId": "26e5a8a1-c902-435c-ae32-fa386737ea6f"
      },
      "execution_count": null,
      "outputs": [
        {
          "output_type": "stream",
          "name": "stderr",
          "text": [
            "/usr/local/lib/python3.7/dist-packages/sklearn/neural_network/_multilayer_perceptron.py:549: ConvergenceWarning: lbfgs failed to converge (status=1):\n",
            "STOP: TOTAL NO. of ITERATIONS REACHED LIMIT.\n",
            "\n",
            "Increase the number of iterations (max_iter) or scale the data as shown in:\n",
            "    https://scikit-learn.org/stable/modules/preprocessing.html\n",
            "  self.n_iter_ = _check_optimize_result(\"lbfgs\", opt_res, self.max_iter)\n"
          ]
        }
      ]
    },
    {
      "cell_type": "code",
      "source": [
        "# Display results \n",
        "show_clf_results(clf, cr.x_train, cr.y_train, cr.x_test, cr.y_test, y0,ypred, nn_st, decisionline=1)"
      ],
      "metadata": {
        "colab": {
          "base_uri": "https://localhost:8080/",
          "height": 716
        },
        "id": "X8HzLFJb8zGa",
        "outputId": "b7037473-024a-407e-8d83-1005a8b85362"
      },
      "execution_count": null,
      "outputs": [
        {
          "output_type": "stream",
          "name": "stdout",
          "text": [
            "Training:\n",
            "Confusion Matrix:\n",
            "[[  0   0   1   1   0   0   0]\n",
            " [  0   4   3   6   8   0   0]\n",
            " [  0   1  21  16  33   0   0]\n",
            " [  0   0   5  59  58   0   0]\n",
            " [  0   0   1  34 104   0   0]\n",
            " [  0   0   2  13  36   1   0]\n",
            " [  0   0   0   0   0   0   1]]\n",
            "Accuracy = 46.57\n",
            "Testing:\n",
            "Confusion Matrix:\n",
            "[[ 0  0  0  0  0  1  1  0]\n",
            " [ 0  0  0  0  0  1  0  0]\n",
            " [ 0  0  0  0  2  1  2  0]\n",
            " [ 0  0  0  0  1  5  7  0]\n",
            " [ 0  0  0  1  6 12 10  0]\n",
            " [ 0  0  0  1  4 10 13  1]\n",
            " [ 0  0  0  1  0  8  5  0]\n",
            " [ 0  0  0  0  0  2  7  0]]\n",
            "Accuracy = 20.59\n"
          ]
        },
        {
          "output_type": "display_data",
          "data": {
            "text/plain": [
              "<Figure size 1296x432 with 2 Axes>"
            ],
            "image/png": "[encoded data removed]"
          },
          "metadata": {
            "needs_background": "light"
          }
        }
      ]
    },
    {
      "cell_type": "markdown",
      "source": [
        "\n",
        "# Netflix"
      ],
      "metadata": {
        "id": "BBPDa1T4UvA_"
      }
    },
    {
      "cell_type": "code",
      "source": [
        "nt = Platform('netflix_titles')"
      ],
      "metadata": {
        "id": "GlHm17-vU0Xf"
      },
      "execution_count": null,
      "outputs": []
    },
    {
      "cell_type": "code",
      "source": [
        "nt.x_train"
      ],
      "metadata": {
        "colab": {
          "base_uri": "https://localhost:8080/"
        },
        "id": "S4OPT6hOVZlG",
        "outputId": "e7487895-2cb1-4dd2-f295-dcfd25250828"
      },
      "execution_count": null,
      "outputs": [
        {
          "output_type": "execute_result",
          "data": {
            "text/plain": [
              "array([[113,   5],\n",
              "       [ 91,   3],\n",
              "       [ 94,   5],\n",
              "       ...,\n",
              "       [119,   0],\n",
              "       [ 30,   8],\n",
              "       [108,   0]])"
            ]
          },
          "metadata": {},
          "execution_count": 126
        }
      ]
    },
    {
      "cell_type": "code",
      "source": [
        "nt.y_test"
      ],
      "metadata": {
        "colab": {
          "base_uri": "https://localhost:8080/"
        },
        "id": "BdVvp4xCVeIP",
        "outputId": "744b2d2a-588e-4676-8db6-81214bc26067"
      },
      "execution_count": null,
      "outputs": [
        {
          "output_type": "execute_result",
          "data": {
            "text/plain": [
              "array([7, 4, 4, 6, 5, 3, 6, 3, 6, 6, 5, 7, 3, 6, 2, 3, 6, 3, 4, 8, 5, 4,\n",
              "       5, 6, 5, 6, 6, 4, 7, 6, 7, 3, 4, 5, 7, 6, 6, 5, 3, 7, 8, 6, 8, 5,\n",
              "       6, 6, 7, 5, 6, 4, 8, 5, 7, 5, 6, 5, 6, 4, 7, 6, 6, 7, 6, 5, 6, 6,\n",
              "       5, 5, 5, 5, 5, 4, 4, 7, 3, 5, 3, 5, 7, 7, 5, 3, 7, 6, 5, 6, 6, 4,\n",
              "       8, 5, 5, 3, 7, 4, 6, 3, 6, 4, 7, 5, 6, 6, 7, 6, 4, 6, 2, 5, 5, 4,\n",
              "       7, 4, 6, 7, 4, 7, 7, 2, 6, 6, 6, 3, 4, 4, 6, 6, 6, 5, 7, 5, 5, 4,\n",
              "       4, 7, 6, 8, 4, 6, 4, 6, 7, 8, 6, 6, 3, 8, 5, 8, 7, 8, 6, 5, 5, 7,\n",
              "       5, 5, 3, 7, 6, 5, 8, 7, 7, 4, 7, 6, 4, 6, 5, 6, 6, 5, 4, 6, 5, 5,\n",
              "       4, 4, 7, 6, 6, 5, 6, 5, 7, 5, 7, 3, 4, 5, 6, 5, 4, 6, 7, 6, 6, 5,\n",
              "       6, 6, 6, 6, 6, 4, 5, 5, 2, 5, 7, 8, 5, 4, 5, 7, 5, 6, 6, 5, 6, 7,\n",
              "       5, 4, 7, 7, 3, 5, 7, 6, 7, 6, 7, 6, 7, 4, 5, 6, 2, 5, 2, 7, 6, 7,\n",
              "       4, 4, 8, 6, 6, 6, 4, 6, 7, 4, 5, 7, 9, 5, 7, 6, 5, 7, 7, 6, 7, 5,\n",
              "       7, 6, 6, 7, 6, 6, 6, 5, 6, 6, 2, 4, 7, 6, 6, 8, 6, 6, 7, 6, 6, 7,\n",
              "       7, 6, 7, 6, 5, 7, 5, 7, 7, 5, 4, 7, 6, 5, 6, 5, 7, 8, 6, 6, 7, 6,\n",
              "       7, 4, 6, 7, 7, 5, 6, 5, 7, 7, 6, 7, 6, 5, 8, 8, 7, 7, 8, 5, 7, 5,\n",
              "       6, 6, 6, 4, 5, 6, 8, 7, 7, 4, 5, 6, 4, 8, 5, 6, 5, 4, 7, 7, 6, 4,\n",
              "       6, 5, 7, 8, 5, 6, 6, 7, 4, 4, 8, 6, 6, 6, 6, 5, 6, 2, 6, 6, 6, 7,\n",
              "       6, 5, 7, 5, 5, 6, 7, 5, 5, 2, 7, 7, 8, 5, 5, 4, 7, 6, 6, 5, 4, 7,\n",
              "       7, 6, 5, 9, 6, 7, 6, 6, 6, 4, 5, 7, 6, 7, 4, 6, 7, 8, 1, 6, 5, 6,\n",
              "       7, 6, 6, 5, 6, 6, 6, 7, 5, 6, 5, 5, 5, 6, 7, 6, 5, 5, 6, 7, 5, 5,\n",
              "       6, 7, 7, 5, 7, 7, 5, 6, 5, 5, 7, 7, 6, 7, 7, 7, 7, 7, 6, 6, 6, 7,\n",
              "       7, 7, 5, 3, 6, 3, 6, 6, 6, 7, 6, 8, 6, 6, 6, 7, 7, 4, 5, 6, 3, 6,\n",
              "       7, 6, 6, 7, 4, 4, 7, 6, 6, 6, 8, 6, 6, 7, 6, 6, 4, 5, 2, 4, 1, 6,\n",
              "       7, 6, 4, 5, 4, 6, 8, 7, 7, 7, 5, 6, 6, 8, 7, 6, 7, 6, 7, 7, 7, 5,\n",
              "       7, 7, 6, 6, 8, 5, 6, 5, 4, 7, 5, 6, 6, 7, 6, 6, 7, 6, 7, 7, 5, 6,\n",
              "       7, 4, 5, 5, 6, 6, 6, 7, 8, 7, 6, 7, 4, 6, 6, 6, 5, 7, 6, 6, 6, 4,\n",
              "       3, 6, 5, 6, 6, 7, 7, 6, 5, 5, 7, 7, 6, 5, 6, 6, 6, 4, 6, 4, 6, 6,\n",
              "       7, 7, 7, 4, 6, 7, 5, 6, 5, 3, 5, 4, 6, 8, 6, 6, 7, 6, 6, 5, 6, 7,\n",
              "       7, 4, 4, 5, 6, 4, 7, 6, 4, 4, 7, 7, 6, 6, 8, 5, 6, 5, 6, 5, 5, 7,\n",
              "       5, 6, 5, 5, 5, 6, 6, 6, 7, 7, 7, 5, 6, 6, 5, 5, 5, 8, 5, 4, 2, 6,\n",
              "       7, 6, 6, 5, 6, 4, 6, 5, 5, 6, 7, 6, 6, 6, 6, 5, 5, 6, 6, 6, 6, 7,\n",
              "       5, 1, 6, 6, 7, 6, 6, 8, 6, 6, 6, 6, 6, 2, 3, 6, 4, 5, 5, 6, 6, 8,\n",
              "       6, 3, 7, 5, 5, 6, 5, 7, 5, 5, 6, 4, 5, 6, 6, 6, 5, 4, 5, 4, 8, 7,\n",
              "       8, 5, 5, 4, 6, 5, 7, 6, 6, 6, 6, 6, 6, 8, 5, 5, 5, 4, 6, 7, 4, 6,\n",
              "       6, 4, 5, 5, 7, 6, 7, 5, 4, 3, 7, 5, 4, 5, 5, 7, 5, 6, 3, 5, 5, 6,\n",
              "       3, 5, 5, 6, 5, 4, 7, 5, 6, 6, 4, 6, 6, 5, 8, 3, 6, 7, 5, 5, 4, 5,\n",
              "       6, 6, 5, 5, 6, 7, 5, 2, 7, 6, 5, 7, 6, 3, 5, 6, 7, 6, 5, 5, 7, 6,\n",
              "       3, 6, 5, 4, 4, 3, 5, 5, 5, 5, 4, 3, 5, 4, 4, 3, 6, 4, 3, 4, 4, 5,\n",
              "       5, 3, 5, 7, 7, 2, 4, 5, 5, 5, 6, 4, 4, 4, 2, 5, 6, 6, 6, 8])"
            ]
          },
          "metadata": {},
          "execution_count": 127
        }
      ]
    },
    {
      "cell_type": "code",
      "source": [
        "nt.df #.dtypes['id'] == object #['imdb_score'] #tmdb_popularity"
      ],
      "metadata": {
        "colab": {
          "base_uri": "https://localhost:8080/",
          "height": 424
        },
        "id": "OxglrD3QVlXy",
        "outputId": "e19481ee-1f18-4baa-ad5a-26f2440b6f67"
      },
      "execution_count": null,
      "outputs": [
        {
          "output_type": "execute_result",
          "data": {
            "text/plain": [
              "      age_certification  runtime imdb_score age_certification_bk  \\\n",
              "1                     5      113          8                    R   \n",
              "2                     3       91          8                   PG   \n",
              "3                     5       94          7                    R   \n",
              "4                     5      133          8                    R   \n",
              "5                     6       30          8                TV-14   \n",
              "...                 ...      ...        ...                  ...   \n",
              "5800                  0      108          5                  APT   \n",
              "5801                  0      100          6                  APT   \n",
              "5803                  0       88          6                  APT   \n",
              "5804                  0      116          6                  APT   \n",
              "5805                  0        0          8                  APT   \n",
              "\n",
              "      imdb_score_bk  \n",
              "1               8.3  \n",
              "2               8.2  \n",
              "3               8.0  \n",
              "4               8.1  \n",
              "5               8.8  \n",
              "...             ...  \n",
              "5800            5.8  \n",
              "5801            6.9  \n",
              "5803            6.5  \n",
              "5804            6.2  \n",
              "5805            8.8  \n",
              "\n",
              "[4283 rows x 5 columns]"
            ],
            "text/html": [
              "\n",
              "  <div id=\"df-3b53836c-1c03-4ef4-90bb-116cc810c13f\">\n",
              "    <div class=\"colab-df-container\">\n",
              "      <div>\n",
              "<style scoped>\n",
              "    .dataframe tbody tr th:only-of-type {\n",
              "        vertical-align: middle;\n",
              "    }\n",
              "\n",
              "    .dataframe tbody tr th {\n",
              "        vertical-align: top;\n",
              "    }\n",
              "\n",
              "    .dataframe thead th {\n",
              "        text-align: right;\n",
              "    }\n",
              "</style>\n",
              "<table border=\"1\" class=\"dataframe\">\n",
              "  <thead>\n",
              "    <tr style=\"text-align: right;\">\n",
              "      <th></th>\n",
              "      <th>age_certification</th>\n",
              "      <th>runtime</th>\n",
              "      <th>imdb_score</th>\n",
              "      <th>age_certification_bk</th>\n",
              "      <th>imdb_score_bk</th>\n",
              "    </tr>\n",
              "  </thead>\n",
              "  <tbody>\n",
              "    <tr>\n",
              "      <th>1</th>\n",
              "      <td>5</td>\n",
              "      <td>113</td>\n",
              "      <td>8</td>\n",
              "      <td>R</td>\n",
              "      <td>8.3</td>\n",
              "    </tr>\n",
              "    <tr>\n",
              "      <th>2</th>\n",
              "      <td>3</td>\n",
              "      <td>91</td>\n",
              "      <td>8</td>\n",
              "      <td>PG</td>\n",
              "      <td>8.2</td>\n",
              "    </tr>\n",
              "    <tr>\n",
              "      <th>3</th>\n",
              "      <td>5</td>\n",
              "      <td>94</td>\n",
              "      <td>7</td>\n",
              "      <td>R</td>\n",
              "      <td>8.0</td>\n",
              "    </tr>\n",
              "    <tr>\n",
              "      <th>4</th>\n",
              "      <td>5</td>\n",
              "      <td>133</td>\n",
              "      <td>8</td>\n",
              "      <td>R</td>\n",
              "      <td>8.1</td>\n",
              "    </tr>\n",
              "    <tr>\n",
              "      <th>5</th>\n",
              "      <td>6</td>\n",
              "      <td>30</td>\n",
              "      <td>8</td>\n",
              "      <td>TV-14</td>\n",
              "      <td>8.8</td>\n",
              "    </tr>\n",
              "    <tr>\n",
              "      <th>...</th>\n",
              "      <td>...</td>\n",
              "      <td>...</td>\n",
              "      <td>...</td>\n",
              "      <td>...</td>\n",
              "      <td>...</td>\n",
              "    </tr>\n",
              "    <tr>\n",
              "      <th>5800</th>\n",
              "      <td>0</td>\n",
              "      <td>108</td>\n",
              "      <td>5</td>\n",
              "      <td>APT</td>\n",
              "      <td>5.8</td>\n",
              "    </tr>\n",
              "    <tr>\n",
              "      <th>5801</th>\n",
              "      <td>0</td>\n",
              "      <td>100</td>\n",
              "      <td>6</td>\n",
              "      <td>APT</td>\n",
              "      <td>6.9</td>\n",
              "    </tr>\n",
              "    <tr>\n",
              "      <th>5803</th>\n",
              "      <td>0</td>\n",
              "      <td>88</td>\n",
              "      <td>6</td>\n",
              "      <td>APT</td>\n",
              "      <td>6.5</td>\n",
              "    </tr>\n",
              "    <tr>\n",
              "      <th>5804</th>\n",
              "      <td>0</td>\n",
              "      <td>116</td>\n",
              "      <td>6</td>\n",
              "      <td>APT</td>\n",
              "      <td>6.2</td>\n",
              "    </tr>\n",
              "    <tr>\n",
              "      <th>5805</th>\n",
              "      <td>0</td>\n",
              "      <td>0</td>\n",
              "      <td>8</td>\n",
              "      <td>APT</td>\n",
              "      <td>8.8</td>\n",
              "    </tr>\n",
              "  </tbody>\n",
              "</table>\n",
              "<p>4283 rows × 5 columns</p>\n",
              "</div>\n",
              "      <button class=\"colab-df-convert\" onclick=\"convertToInteractive('df-3b53836c-1c03-4ef4-90bb-116cc810c13f')\"\n",
              "              title=\"Convert this dataframe to an interactive table.\"\n",
              "              style=\"display:none;\">\n",
              "        \n",
              "  <svg xmlns=\"http://www.w3.org/2000/svg\" height=\"24px\"viewBox=\"0 0 24 24\"\n",
              "       width=\"24px\">\n",
              "    <path d=\"M0 0h24v24H0V0z\" fill=\"none\"/>\n",
              "    <path d=\"M18.56 5.44l.94 2.06.94-2.06 2.06-.94-2.06-.94-.94-2.06-.94 2.06-2.06.94zm-11 1L8.5 8.5l.94-2.06 2.06-.94-2.06-.94L8.5 2.5l-.94 2.06-2.06.94zm10 10l.94 2.06.94-2.06 2.06-.94-2.06-.94-.94-2.06-.94 2.06-2.06.94z\"/><path d=\"M17.41 7.96l-1.37-1.37c-.4-.4-.92-.59-1.43-.59-.52 0-1.04.2-1.43.59L10.3 9.45l-7.72 7.72c-.78.78-.78 2.05 0 2.83L4 21.41c.39.39.9.59 1.41.59.51 0 1.02-.2 1.41-.59l7.78-7.78 2.81-2.81c.8-.78.8-2.07 0-2.86zM5.41 20L4 18.59l7.72-7.72 1.47 1.35L5.41 20z\"/>\n",
              "  </svg>\n",
              "      </button>\n",
              "      \n",
              "  <style>\n",
              "    .colab-df-container {\n",
              "      display:flex;\n",
              "      flex-wrap:wrap;\n",
              "      gap: 12px;\n",
              "    }\n",
              "\n",
              "    .colab-df-convert {\n",
              "      background-color: #E8F0FE;\n",
              "      border: none;\n",
              "      border-radius: 50%;\n",
              "      cursor: pointer;\n",
              "      display: none;\n",
              "      fill: #1967D2;\n",
              "      height: 32px;\n",
              "      padding: 0 0 0 0;\n",
              "      width: 32px;\n",
              "    }\n",
              "\n",
              "    .colab-df-convert:hover {\n",
              "      background-color: #E2EBFA;\n",
              "      box-shadow: 0px 1px 2px rgba(60, 64, 67, 0.3), 0px 1px 3px 1px rgba(60, 64, 67, 0.15);\n",
              "      fill: #174EA6;\n",
              "    }\n",
              "\n",
              "    [theme=dark] .colab-df-convert {\n",
              "      background-color: #3B4455;\n",
              "      fill: #D2E3FC;\n",
              "    }\n",
              "\n",
              "    [theme=dark] .colab-df-convert:hover {\n",
              "      background-color: #434B5C;\n",
              "      box-shadow: 0px 1px 3px 1px rgba(0, 0, 0, 0.15);\n",
              "      filter: drop-shadow(0px 1px 2px rgba(0, 0, 0, 0.3));\n",
              "      fill: #FFFFFF;\n",
              "    }\n",
              "  </style>\n",
              "\n",
              "      <script>\n",
              "        const buttonEl =\n",
              "          document.querySelector('#df-3b53836c-1c03-4ef4-90bb-116cc810c13f button.colab-df-convert');\n",
              "        buttonEl.style.display =\n",
              "          google.colab.kernel.accessAllowed ? 'block' : 'none';\n",
              "\n",
              "        async function convertToInteractive(key) {\n",
              "          const element = document.querySelector('#df-3b53836c-1c03-4ef4-90bb-116cc810c13f');\n",
              "          const dataTable =\n",
              "            await google.colab.kernel.invokeFunction('convertToInteractive',\n",
              "                                                     [key], {});\n",
              "          if (!dataTable) return;\n",
              "\n",
              "          const docLinkHtml = 'Like what you see? Visit the ' +\n",
              "            '<a target=\"_blank\" href=https://colab.research.google.com/notebooks/data_table.ipynb>data table notebook</a>'\n",
              "            + ' to learn more about interactive tables.';\n",
              "          element.innerHTML = '';\n",
              "          dataTable['output_type'] = 'display_data';\n",
              "          await google.colab.output.renderOutput(dataTable, element);\n",
              "          const docLink = document.createElement('div');\n",
              "          docLink.innerHTML = docLinkHtml;\n",
              "          element.appendChild(docLink);\n",
              "        }\n",
              "      </script>\n",
              "    </div>\n",
              "  </div>\n",
              "  "
            ]
          },
          "metadata": {},
          "execution_count": 128
        }
      ]
    },
    {
      "cell_type": "code",
      "source": [
        "print(len(nt.x_train), len(nt.x_test))"
      ],
      "metadata": {
        "colab": {
          "base_uri": "https://localhost:8080/"
        },
        "id": "mg5SnlYLV5Qe",
        "outputId": "36445c3f-33b8-466f-c0de-1e1e43027acc"
      },
      "execution_count": null,
      "outputs": [
        {
          "output_type": "stream",
          "name": "stdout",
          "text": [
            "3426 856\n"
          ]
        }
      ]
    },
    {
      "cell_type": "code",
      "source": [
        "# Definitions\n",
        "alpha       = 1e-5          # learning rate\n",
        "nh          = (,6)        # nodes of hidden layers\n",
        "tmax        = 2000          # max number of iterations\n",
        "solver      = 'lbfgs'        # optimization approach ('lbfgs','sgd', 'adam') \n",
        "nn_st       = 'NN-'+str(nh)\n",
        "activation  = 'tanh'    # 'identity', 'logistic', 'tanh', 'relu'\n",
        "\n",
        "# Training\n",
        "clf = MLPClassifier(solver=solver, alpha=alpha,hidden_layer_sizes=nh, \n",
        "                    random_state=1,max_iter=tmax, activation=activation)\n",
        "clf.fit(nt.x_train, nt.y_train)\n",
        "\n",
        "# Evaluation on training subset \n",
        "y0  = clf.predict(nt.x_train)\n",
        "    \n",
        "# Evaluation on testing subset \n",
        "ypred  = clf.predict(nt.x_test)"
      ],
      "metadata": {
        "id": "b4NwhFQ7WADm"
      },
      "execution_count": null,
      "outputs": []
    },
    {
      "cell_type": "code",
      "source": [
        "# Display results \n",
        "show_clf_results(clf,nt.x_train,nt.y_train,nt.x_test,nt.y_test,y0,ypred,nn_st,decisionline=1)"
      ],
      "metadata": {
        "colab": {
          "base_uri": "https://localhost:8080/",
          "height": 769
        },
        "id": "RgHAlPg_WLVp",
        "outputId": "ff905844-42a1-4a22-c94f-d7b76c9b28b1"
      },
      "execution_count": null,
      "outputs": [
        {
          "output_type": "stream",
          "name": "stdout",
          "text": [
            "Training:\n",
            "Confusion Matrix:\n",
            "[[  0   0   0   0   0   5   0   0   0]\n",
            " [  0   0   0   0   0  22   2   0   0]\n",
            " [  0   0   0   0   0  60  16   0   0]\n",
            " [  0   0   0   0   0 180  33   0   0]\n",
            " [  0   0   0   0   0 552 112   0   0]\n",
            " [  0   0   0   0   0 778 311   0   0]\n",
            " [  0   0   0   0   0 591 437   0   0]\n",
            " [  0   0   0   0   0 115 203   0   0]\n",
            " [  0   0   0   0   0   1   8   0   0]]\n",
            "Accuracy = 35.46\n",
            "Testing:\n",
            "Confusion Matrix:\n",
            "[[  0   0   0   0   0   0   3   0   0]\n",
            " [  0   0   0   0   0  13   2   0   0]\n",
            " [  0   0   0   0   0  30   5   0   0]\n",
            " [  0   0   0   0   0  80  19   0   0]\n",
            " [  0   0   0   0   0 134  63   0   0]\n",
            " [  0   0   0   0   0 163 125   0   0]\n",
            " [  0   0   0   0   0  87  90   0   0]\n",
            " [  0   0   0   0   0  22  18   0   0]\n",
            " [  0   0   0   0   0   0   2   0   0]]\n",
            "Accuracy = 29.56\n"
          ]
        },
        {
          "output_type": "display_data",
          "data": {
            "text/plain": [
              "<Figure size 1296x432 with 2 Axes>"
            ],
            "image/png": "[encoded data removed]"
          },
          "metadata": {
            "needs_background": "light"
          }
        }
      ]
    },
    {
      "cell_type": "markdown",
      "source": [
        "# Darkmatter 2.0"
      ],
      "metadata": {
        "id": "WCkZkMJOjbdU"
      }
    },
    {
      "cell_type": "code",
      "source": [
        "class PlatformDM:\n",
        "  def __init__(self, filename,\n",
        "               cols:list = ['imdb_score', 'calification_num'], # 'release_year', \n",
        "              #  colsF:list = ['age_certification'], #,'genres' 'age_certification', \n",
        "               label = 'calification_num',\n",
        "               labelSubd = (0,10,1), #(0,100,10), # (min,max,step) # or None\n",
        "               ptrain = 0.8 #,\n",
        "              #  cols_drop = ['description','seasons','imdb_id','tmdb_popularity','imdb_votes','tmdb_score']\n",
        "              ):\n",
        "    self.filename = f'data/{filename}.csv'\n",
        "    self.df_ini = pd.read_csv(self.filename)\n",
        "    #self.df_ini['calification_num'] = self.df_ini['calification_num'].fillna('Bad')\n",
        "    \n",
        "\n",
        "    cols_drop = []\n",
        "    for c in self.df_ini.columns:\n",
        "      if c not in cols+[label]: cols_drop += [c]\n",
        "    self.df = self.df_ini.drop(columns=cols_drop)\n",
        "    self.df = self.df.dropna().drop_duplicates()\n",
        "\n",
        "    self.cols = cols\n",
        "    # si usamos columnas categoricas, se deben convertir a int\n",
        "    \n",
        "    for c in cols:\n",
        "      if self.df.dtypes[c] == object:\n",
        "        # print('obj')\n",
        "        le = LabelEncoder()\n",
        "        le.fit(self.df[c])\n",
        "        # list(le.classes_)\n",
        "        self.df[f'{c}_bk'] = self.df[c]\n",
        "        self.df[c] = le.transform(self.df[c])\n",
        "        # self.cols += [f'{c}_n']\n",
        "    \n",
        "    if labelSubd != None:\n",
        "      _min, _max, _step = labelSubd\n",
        "      bins = np.arange(_min, _max+1, _step)\n",
        "      names = np.arange( (_max - _min)/_step, dtype=int )\n",
        "      self.df.loc[self.df[label] > _max, label] = _max\n",
        "      self.df[f'{label}_bk'] = self.df[label]\n",
        "      self.df[label] = pd.cut(self.df[label], bins, labels=names)      \n",
        "\n",
        "    self.n = len(self.df)\n",
        "    self.n_train = int( self.n * ptrain )\n",
        "    # self.n_test = self.n - self.n_test\n",
        "    # df_dm[['release_year', 'age_certification', 'runtime', 'genres']]\n",
        "    self.x_train = np.array(self.df[self.cols][:self.n_train])\n",
        "    self.y_train = np.ravel(self.df[label][:self.n_train])#.astype('float')\n",
        "    # self.y_train = np.floor(self.y_train)\n",
        "    self.x_test = np.array(self.df[self.cols][self.n_train+1:])\n",
        "    self.y_test = np.ravel(self.df[label][self.n_train+1:])#.astype('float')\n",
        "    # self.y_test = np.floor(self.y_test)"
      ],
      "metadata": {
        "id": "JWjNVBVkjfSb"
      },
      "execution_count": null,
      "outputs": []
    },
    {
      "cell_type": "code",
      "source": [
        "dm2 = PlatformDM('darkmatter_tittles')"
      ],
      "metadata": {
        "id": "kzSZVL5pltrd"
      },
      "execution_count": null,
      "outputs": []
    },
    {
      "cell_type": "code",
      "source": [
        "dm2.x_train"
      ],
      "metadata": {
        "colab": {
          "base_uri": "https://localhost:8080/"
        },
        "id": "vNt4WZUhshub",
        "outputId": "ad425159-4f6d-4b9f-f07d-07124b7421fe"
      },
      "execution_count": null,
      "outputs": [
        {
          "output_type": "execute_result",
          "data": {
            "text/plain": [
              "array([[9, 1],\n",
              "       [9, 1],\n",
              "       [9, 1],\n",
              "       [9, 1],\n",
              "       [9, 1],\n",
              "       [9, 1],\n",
              "       [9, 1],\n",
              "       [9, 1],\n",
              "       [9, 1],\n",
              "       [9, 0],\n",
              "       [9, 0],\n",
              "       [9, 0],\n",
              "       [9, 0],\n",
              "       [9, 0],\n",
              "       [9, 0],\n",
              "       [9, 0],\n",
              "       [9, 0],\n",
              "       [9, 0],\n",
              "       [9, 0],\n",
              "       [9, 0],\n",
              "       [9, 0],\n",
              "       [9, 0],\n",
              "       [9, 1],\n",
              "       [9, 0],\n",
              "       [9, 0],\n",
              "       [9, 0],\n",
              "       [9, 0],\n",
              "       [9, 0],\n",
              "       [9, 0],\n",
              "       [9, 0],\n",
              "       [9, 0],\n",
              "       [9, 0],\n",
              "       [9, 0],\n",
              "       [9, 0],\n",
              "       [9, 0],\n",
              "       [9, 0],\n",
              "       [9, 0],\n",
              "       [9, 0],\n",
              "       [9, 0],\n",
              "       [9, 0],\n",
              "       [9, 0],\n",
              "       [9, 0],\n",
              "       [9, 0],\n",
              "       [9, 0],\n",
              "       [9, 0],\n",
              "       [9, 0],\n",
              "       [9, 0],\n",
              "       [9, 0],\n",
              "       [9, 0],\n",
              "       [9, 0],\n",
              "       [9, 0],\n",
              "       [9, 0]])"
            ]
          },
          "metadata": {},
          "execution_count": 195
        }
      ]
    },
    {
      "cell_type": "code",
      "source": [
        "dm2.y_test"
      ],
      "metadata": {
        "colab": {
          "base_uri": "https://localhost:8080/"
        },
        "id": "fbNPT9fcsupP",
        "outputId": "b4a8da25-4b7e-4d45-b7d1-227fafb2c1a5"
      },
      "execution_count": null,
      "outputs": [
        {
          "output_type": "execute_result",
          "data": {
            "text/plain": [
              "array([9, 9, 9, 9, 9, 9, 9, 9, 9, 9, 9, 9])"
            ]
          },
          "metadata": {},
          "execution_count": 196
        }
      ]
    },
    {
      "cell_type": "code",
      "source": [
        "dm2.df #.dtypes['id'] == object #['imdb_score'] #tmdb_popularity"
      ],
      "metadata": {
        "colab": {
          "base_uri": "https://localhost:8080/",
          "height": 424
        },
        "id": "hdkHsy3Is93f",
        "outputId": "e671dce9-11bd-4430-bb27-3ba59c5b7bc2"
      },
      "execution_count": null,
      "outputs": [
        {
          "output_type": "execute_result",
          "data": {
            "text/plain": [
              "    imdb_score  calification_num  imdb_score_bk\n",
              "0            9                 1           10.0\n",
              "1            9                 1           10.0\n",
              "2            9                 1           10.0\n",
              "4            9                 1           10.0\n",
              "5            9                 1           10.0\n",
              "..         ...               ...            ...\n",
              "385          9                 0           10.0\n",
              "450          9                 0           10.0\n",
              "476          9                 0           10.0\n",
              "750          9                 0           10.0\n",
              "989          9                 1           10.0\n",
              "\n",
              "[65 rows x 3 columns]"
            ],
            "text/html": [
              "\n",
              "  <div id=\"df-c90a3204-a9a5-41db-a3de-11192f546b8a\">\n",
              "    <div class=\"colab-df-container\">\n",
              "      <div>\n",
              "<style scoped>\n",
              "    .dataframe tbody tr th:only-of-type {\n",
              "        vertical-align: middle;\n",
              "    }\n",
              "\n",
              "    .dataframe tbody tr th {\n",
              "        vertical-align: top;\n",
              "    }\n",
              "\n",
              "    .dataframe thead th {\n",
              "        text-align: right;\n",
              "    }\n",
              "</style>\n",
              "<table border=\"1\" class=\"dataframe\">\n",
              "  <thead>\n",
              "    <tr style=\"text-align: right;\">\n",
              "      <th></th>\n",
              "      <th>imdb_score</th>\n",
              "      <th>calification_num</th>\n",
              "      <th>imdb_score_bk</th>\n",
              "    </tr>\n",
              "  </thead>\n",
              "  <tbody>\n",
              "    <tr>\n",
              "      <th>0</th>\n",
              "      <td>9</td>\n",
              "      <td>1</td>\n",
              "      <td>10.0</td>\n",
              "    </tr>\n",
              "    <tr>\n",
              "      <th>1</th>\n",
              "      <td>9</td>\n",
              "      <td>1</td>\n",
              "      <td>10.0</td>\n",
              "    </tr>\n",
              "    <tr>\n",
              "      <th>2</th>\n",
              "      <td>9</td>\n",
              "      <td>1</td>\n",
              "      <td>10.0</td>\n",
              "    </tr>\n",
              "    <tr>\n",
              "      <th>4</th>\n",
              "      <td>9</td>\n",
              "      <td>1</td>\n",
              "      <td>10.0</td>\n",
              "    </tr>\n",
              "    <tr>\n",
              "      <th>5</th>\n",
              "      <td>9</td>\n",
              "      <td>1</td>\n",
              "      <td>10.0</td>\n",
              "    </tr>\n",
              "    <tr>\n",
              "      <th>...</th>\n",
              "      <td>...</td>\n",
              "      <td>...</td>\n",
              "      <td>...</td>\n",
              "    </tr>\n",
              "    <tr>\n",
              "      <th>385</th>\n",
              "      <td>9</td>\n",
              "      <td>0</td>\n",
              "      <td>10.0</td>\n",
              "    </tr>\n",
              "    <tr>\n",
              "      <th>450</th>\n",
              "      <td>9</td>\n",
              "      <td>0</td>\n",
              "      <td>10.0</td>\n",
              "    </tr>\n",
              "    <tr>\n",
              "      <th>476</th>\n",
              "      <td>9</td>\n",
              "      <td>0</td>\n",
              "      <td>10.0</td>\n",
              "    </tr>\n",
              "    <tr>\n",
              "      <th>750</th>\n",
              "      <td>9</td>\n",
              "      <td>0</td>\n",
              "      <td>10.0</td>\n",
              "    </tr>\n",
              "    <tr>\n",
              "      <th>989</th>\n",
              "      <td>9</td>\n",
              "      <td>1</td>\n",
              "      <td>10.0</td>\n",
              "    </tr>\n",
              "  </tbody>\n",
              "</table>\n",
              "<p>65 rows × 3 columns</p>\n",
              "</div>\n",
              "      <button class=\"colab-df-convert\" onclick=\"convertToInteractive('df-c90a3204-a9a5-41db-a3de-11192f546b8a')\"\n",
              "              title=\"Convert this dataframe to an interactive table.\"\n",
              "              style=\"display:none;\">\n",
              "        \n",
              "  <svg xmlns=\"http://www.w3.org/2000/svg\" height=\"24px\"viewBox=\"0 0 24 24\"\n",
              "       width=\"24px\">\n",
              "    <path d=\"M0 0h24v24H0V0z\" fill=\"none\"/>\n",
              "    <path d=\"M18.56 5.44l.94 2.06.94-2.06 2.06-.94-2.06-.94-.94-2.06-.94 2.06-2.06.94zm-11 1L8.5 8.5l.94-2.06 2.06-.94-2.06-.94L8.5 2.5l-.94 2.06-2.06.94zm10 10l.94 2.06.94-2.06 2.06-.94-2.06-.94-.94-2.06-.94 2.06-2.06.94z\"/><path d=\"M17.41 7.96l-1.37-1.37c-.4-.4-.92-.59-1.43-.59-.52 0-1.04.2-1.43.59L10.3 9.45l-7.72 7.72c-.78.78-.78 2.05 0 2.83L4 21.41c.39.39.9.59 1.41.59.51 0 1.02-.2 1.41-.59l7.78-7.78 2.81-2.81c.8-.78.8-2.07 0-2.86zM5.41 20L4 18.59l7.72-7.72 1.47 1.35L5.41 20z\"/>\n",
              "  </svg>\n",
              "      </button>\n",
              "      \n",
              "  <style>\n",
              "    .colab-df-container {\n",
              "      display:flex;\n",
              "      flex-wrap:wrap;\n",
              "      gap: 12px;\n",
              "    }\n",
              "\n",
              "    .colab-df-convert {\n",
              "      background-color: #E8F0FE;\n",
              "      border: none;\n",
              "      border-radius: 50%;\n",
              "      cursor: pointer;\n",
              "      display: none;\n",
              "      fill: #1967D2;\n",
              "      height: 32px;\n",
              "      padding: 0 0 0 0;\n",
              "      width: 32px;\n",
              "    }\n",
              "\n",
              "    .colab-df-convert:hover {\n",
              "      background-color: #E2EBFA;\n",
              "      box-shadow: 0px 1px 2px rgba(60, 64, 67, 0.3), 0px 1px 3px 1px rgba(60, 64, 67, 0.15);\n",
              "      fill: #174EA6;\n",
              "    }\n",
              "\n",
              "    [theme=dark] .colab-df-convert {\n",
              "      background-color: #3B4455;\n",
              "      fill: #D2E3FC;\n",
              "    }\n",
              "\n",
              "    [theme=dark] .colab-df-convert:hover {\n",
              "      background-color: #434B5C;\n",
              "      box-shadow: 0px 1px 3px 1px rgba(0, 0, 0, 0.15);\n",
              "      filter: drop-shadow(0px 1px 2px rgba(0, 0, 0, 0.3));\n",
              "      fill: #FFFFFF;\n",
              "    }\n",
              "  </style>\n",
              "\n",
              "      <script>\n",
              "        const buttonEl =\n",
              "          document.querySelector('#df-c90a3204-a9a5-41db-a3de-11192f546b8a button.colab-df-convert');\n",
              "        buttonEl.style.display =\n",
              "          google.colab.kernel.accessAllowed ? 'block' : 'none';\n",
              "\n",
              "        async function convertToInteractive(key) {\n",
              "          const element = document.querySelector('#df-c90a3204-a9a5-41db-a3de-11192f546b8a');\n",
              "          const dataTable =\n",
              "            await google.colab.kernel.invokeFunction('convertToInteractive',\n",
              "                                                     [key], {});\n",
              "          if (!dataTable) return;\n",
              "\n",
              "          const docLinkHtml = 'Like what you see? Visit the ' +\n",
              "            '<a target=\"_blank\" href=https://colab.research.google.com/notebooks/data_table.ipynb>data table notebook</a>'\n",
              "            + ' to learn more about interactive tables.';\n",
              "          element.innerHTML = '';\n",
              "          dataTable['output_type'] = 'display_data';\n",
              "          await google.colab.output.renderOutput(dataTable, element);\n",
              "          const docLink = document.createElement('div');\n",
              "          docLink.innerHTML = docLinkHtml;\n",
              "          element.appendChild(docLink);\n",
              "        }\n",
              "      </script>\n",
              "    </div>\n",
              "  </div>\n",
              "  "
            ]
          },
          "metadata": {},
          "execution_count": 197
        }
      ]
    },
    {
      "cell_type": "code",
      "source": [
        "print(len(dm2.x_train), len(dm2.x_test))"
      ],
      "metadata": {
        "colab": {
          "base_uri": "https://localhost:8080/"
        },
        "id": "uY-o0uPPtJ-b",
        "outputId": "107fc330-a6ef-4237-ed0f-77fc4cf927d8"
      },
      "execution_count": null,
      "outputs": [
        {
          "output_type": "stream",
          "name": "stdout",
          "text": [
            "52 12\n"
          ]
        }
      ]
    },
    {
      "cell_type": "code",
      "source": [
        "# Definitions\n",
        "alpha       = 1e-5          # learning rate\n",
        "nh          = (10,6)        # nodes of hidden layers\n",
        "tmax        = 2000          # max number of iterations\n",
        "solver      = 'adam'        # optimization approach ('lbfgs','sgd', 'adam') \n",
        "nn_st       = 'NN-'+str(nh)\n",
        "activation  = 'logistic'    # 'identity', 'logistic', 'tanh', 'relu'\n",
        "\n",
        "# Training\n",
        "clf = MLPClassifier(solver=solver, alpha=alpha,hidden_layer_sizes=nh, \n",
        "                    random_state=1,max_iter=tmax, activation=activation)\n",
        "clf.fit(dm2.x_train, dm2.y_train)\n",
        "\n",
        "# Evaluation on training subset \n",
        "y0  = clf.predict(dm2.x_train)\n",
        "    \n",
        "# Evaluation on testing subset \n",
        "ypred  = clf.predict(dm2.x_test)\n"
      ],
      "metadata": {
        "id": "jjM1nJnPtRUW"
      },
      "execution_count": null,
      "outputs": []
    },
    {
      "cell_type": "code",
      "source": [
        "show_clf_results(clf,dm2.x_train,dm2.y_train,dm2.x_test,dm2.y_test,y0,ypred,nn_st,decisionline=1)"
      ],
      "metadata": {
        "colab": {
          "base_uri": "https://localhost:8080/",
          "height": 483
        },
        "id": "bwCHs_ZPtiFK",
        "outputId": "4f90d3d4-a10e-45ba-be09-f905d1c5ec2b"
      },
      "execution_count": null,
      "outputs": [
        {
          "output_type": "stream",
          "name": "stdout",
          "text": [
            "Training:\n",
            "Confusion Matrix:\n",
            "[[52]]\n",
            "Accuracy = 100.00\n",
            "Testing:\n",
            "Confusion Matrix:\n",
            "[[12]]\n",
            "Accuracy = 100.00\n"
          ]
        },
        {
          "output_type": "display_data",
          "data": {
            "text/plain": [
              "<Figure size 1296x432 with 2 Axes>"
            ],
            "image/png": "[encoded data removed]"
          },
          "metadata": {
            "needs_background": "light"
          }
        }
      ]
    }
  ]
}