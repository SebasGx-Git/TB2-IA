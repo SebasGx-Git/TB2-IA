{
  "nbformat": 4,
  "nbformat_minor": 0,
  "metadata": {
    "colab": {
      "name": "TB2.ipynb",
      "provenance": [],
      "collapsed_sections": [],
      "authorship_tag": "ABX9TyPBHfLIrOmxmeUNOKPRcj7s",
      "include_colab_link": true
    },
    "kernelspec": {
      "name": "python3",
      "display_name": "Python 3"
    },
    "language_info": {
      "name": "python"
    }
  },
  "cells": [
    {
      "cell_type": "markdown",
      "metadata": {
        "id": "view-in-github",
        "colab_type": "text"
      },
      "source": [
        "<a href=\"https://colab.research.google.com/github/SebasGx-Git/TB2-IA/blob/main/TB2.ipynb\" target=\"_parent\"><img src=\"https://colab.research.google.com/assets/colab-badge.svg\" alt=\"Open In Colab\"/></a>"
      ]
    },
    {
      "cell_type": "code",
      "execution_count": 2,
      "metadata": {
        "id": "CeZe906aGxCM"
      },
      "outputs": [],
      "source": [
        "import numpy as np\n",
        "import pandas as pd\n",
        "import matplotlib.pyplot as plt\n",
        "import matplotlib.gridspec as gridspec\n",
        "import seaborn as sns\n",
        "from   IPython.display import clear_output"
      ]
    },
    {
      "cell_type": "code",
      "source": [
        "from   sklearn.metrics import confusion_matrix, accuracy_score"
      ],
      "metadata": {
        "id": "4S_Nh6I0G2j0"
      },
      "execution_count": 3,
      "outputs": []
    },
    {
      "cell_type": "code",
      "source": [
        "from sklearn.neural_network import MLPClassifier\n",
        "# from sklearn.kdatasets import make_classification\n",
        "# from sklearn.model_selection import train_test_split\n",
        "from sklearn.preprocessing import LabelEncoder"
      ],
      "metadata": {
        "id": "a1Xoeru2G7i8"
      },
      "execution_count": 4,
      "outputs": []
    },
    {
      "cell_type": "markdown",
      "source": [
        "## Redes Neuronales (sklearn)\n",
        "\n",
        "En la práctica se usa esta implementación de Redes Neuoronales\n",
        "\n",
        "\n",
        "https://scikit-learn.org/stable/modules/neural_networks_supervised.html#neural-networks-supervised"
      ],
      "metadata": {
        "id": "Bi6DxekzG-iy"
      }
    },
    {
      "cell_type": "code",
      "source": [
        "def print_confusion(dt,ds,show_heatmap=0,Cnorm=1):\n",
        "    # dt - true, ds - predicted\n",
        "    C   = confusion_matrix(dt,ds) \n",
        "    print('Confusion Matrix:')\n",
        "    print(C)\n",
        "    acc = accuracy_score(dt,ds) \n",
        "    acc_st = \"{:.2f}\".format(acc*100)\n",
        "    print('Accuracy = '+str(acc_st))\n",
        "    if show_heatmap:\n",
        "      sns.heatmap(C/Cnorm, annot=True, cbar=None, cmap=\"Blues\")\n",
        "      plt.title(\"Confusion Matrix\"), plt.tight_layout()\n",
        "      plt.ylabel(\"True Class\"), plt.xlabel(\"Predicted Class\")\n",
        "      plt.show()\n",
        "\n",
        "def plot_features(X,d,st,show=1):\n",
        "    dmin = int(np.min(d)) \n",
        "    dmax = int(np.max(d)) \n",
        "    #colors = np.array([\"red\",\"green\",\"blue\",\"yellow\",\"pink\",\"black\",\"orange\",\"purple\",\"beige\",\"brown\",\"gray\",\"cyan\",\"magenta\"])\n",
        "    #colors = 'Greens'\n",
        "    for j in range(dmin,dmax+1):\n",
        "        plt.scatter(X[d==j,0],X[d==j,1],label=str(j),s=27)\n",
        "    plt.grid(True)\n",
        "    plt.legend()\n",
        "    plt.xlabel('$x_1$',fontsize=14)\n",
        "    plt.ylabel('$x_2$',fontsize=14)\n",
        "    plt.title('Feature Space - '+st,fontsize=14)\n",
        "    if show==1:\n",
        "        plt.show()\n",
        "\n",
        "def plot_decision_lines(clf,X,show=0,decisionline=1):\n",
        "    # based on example of https://scikit-learn.org\n",
        "    h = 0.075\n",
        "    x_min, x_max = X[:, 0].min() - 1, X[:, 0].max() + 1\n",
        "    y_min, y_max = X[:, 1].min() - 1, X[:, 1].max() + 1\n",
        "    xx, yy = np.meshgrid(np.arange(x_min, x_max, h),\n",
        "                         np.arange(y_min, y_max, h))\n",
        "    if decisionline == 1:\n",
        "        Z = clf.predict(np.c_[xx.ravel(), yy.ravel()])\n",
        "        Z = Z.reshape(xx.shape)\n",
        "        plt.contourf(xx, yy, Z, cmap=plt.cm.Reds, alpha=0.8)\n",
        "    plt.xlim(x_min, x_max)\n",
        "    plt.ylim(y_min, y_max)\n",
        "    if show==1:\n",
        "        plt.show()\n",
        "\n",
        "def show_clf_results(clf,X,d,Xt,dt,d0,ds,st,decisionline=1):\n",
        "    gs = gridspec.GridSpec(1, 2)\n",
        "    fig = plt.figure(figsize=(18, 6))\n",
        "    print('Training:')\n",
        "    acc = accuracy_score(d,d0) \n",
        "    accst = f'Acc = {acc:.4f}'    \n",
        "    ax = plt.subplot(gs[0,0])\n",
        "    print_confusion(d,d0)                             # confusion matrix in training\n",
        "    plot_decision_lines(clf,X,0,decisionline)          # decision lines\n",
        "    plot_features(X,d,st+' - Training: '+accst,0)     # feature space in training   \n",
        "    ax = plt.subplot(gs[0,1])\n",
        "    print('Testing:')\n",
        "    acc = accuracy_score(ds,dt) \n",
        "    accst = f'Acc = {acc:.4f}'    \n",
        "    print_confusion(dt,ds)                            # confusion matrix in testing\n",
        "    plot_decision_lines(clf,X,0,decisionline)          # decision lines\n",
        "    plot_features(Xt,dt,st+' - Testing: '+accst,1)    # feature space in testing\n",
        "\n",
        "\n",
        "def plot_loss(loss_train):\n",
        "    plt.figure(figsize=[8,6])\n",
        "    plt.plot(loss_train,'r',linewidth=1.5)\n",
        "    # plt.plot(loss_val,'b',linewidth=1.5)\n",
        "    # plt.legend(['Training loss', 'Validation Loss'],fontsize=14)\n",
        "    plt.xlabel('Epochs ',fontsize=14)\n",
        "    plt.ylabel('Loss',fontsize=14)\n",
        "    plt.title('Training Loss',fontsize=14)\n",
        "    xmin, xmax = plt.xlim()\n",
        "    ymin, ymax = plt.ylim()\n",
        "    plt.xlim(0,xmax)\n",
        "    plt.ylim(0,ymax)\n",
        "    plt.grid(True)\n",
        "    plt.show()"
      ],
      "metadata": {
        "id": "CXFzqqCsG_Nv"
      },
      "execution_count": 5,
      "outputs": []
    },
    {
      "cell_type": "markdown",
      "source": [
        "# Plataformas\n"
      ],
      "metadata": {
        "id": "AKfMpTgVHKcq"
      }
    },
    {
      "cell_type": "code",
      "source": [
        "class VideoGames:\n",
        "  def __init__(self, filename,\n",
        "               cols:list = ['Length.Completionists.Median', 'Metrics.Used Price'], # 'release_year', \n",
        "              #  colsF:list = ['age_certification'], #,'genres' 'age_certification', \n",
        "               label = 'Metrics.Review Score',\n",
        "               labelSubd = (0,100,25), #(0,100,10), # (min,max,step) # or None\n",
        "               ptrain = 0.8 #,\n",
        "              #  cols_drop = ['description','seasons','imdb_id','tmdb_popularity','imdb_votes','tmdb_score']\n",
        "              ):\n",
        "    self.filename = f'data/{filename}.csv'\n",
        "    self.df_ini = pd.read_csv(self.filename)\n",
        "    # self.df_ini['Metrics.Used Price'] = self.df_ini['Length.All PlayStyles.Median'].fillna('APT')\n",
        "\n",
        "    cols_drop = []\n",
        "    for c in self.df_ini.columns:\n",
        "      if c not in cols+[label]: cols_drop += [c]\n",
        "    self.df = self.df_ini.drop(columns=cols_drop)\n",
        "    self.df = self.df.dropna().drop_duplicates()\n",
        "\n",
        "    self.cols = cols\n",
        "    # si usamos columnas categoricas, se deben convertir a int\n",
        "    for c in cols:\n",
        "      if self.df.dtypes[c] == object:\n",
        "        # print('obj')\n",
        "        le = LabelEncoder()\n",
        "        le.fit(self.df[c])\n",
        "        # list(le.classes_)\n",
        "        self.df[f'{c}_bk'] = self.df[c]\n",
        "        self.df[c] = le.transform(self.df[c])\n",
        "        # self.cols += [f'{c}_n']\n",
        "    \n",
        "    if labelSubd != None:\n",
        "      _min, _max, _step = labelSubd\n",
        "      bins = np.arange(_min, _max+1, _step)\n",
        "      names = np.arange( (_max - _min)/_step, dtype=int )\n",
        "      self.df.loc[self.df[label] > _max, label] = _max\n",
        "      self.df[f'{label}_bk'] = self.df[label]\n",
        "      self.df[label] = pd.cut(self.df[label], bins, labels=names)      \n",
        "\n",
        "    self.n = len(self.df)\n",
        "    self.n_train = int( self.n * ptrain )\n",
        "    # self.n_test = self.n - self.n_test\n",
        "    # df_dm[['release_year', 'age_certification', 'runtime', 'genres']]\n",
        "    self.x_train = np.array(self.df[self.cols][:self.n_train])\n",
        "    self.y_train = np.ravel(self.df[label][:self.n_train])#.astype('float')\n",
        "    # self.y_train = np.floor(self.y_train)\n",
        "    self.x_test = np.array(self.df[self.cols][self.n_train+1:])\n",
        "    self.y_test = np.ravel(self.df[label][self.n_train+1:])#.astype('float')\n",
        "    # self.y_test = np.floor(self.y_test)"
      ],
      "metadata": {
        "id": "4UreAJhSMwBK"
      },
      "execution_count": 141,
      "outputs": []
    },
    {
      "cell_type": "markdown",
      "source": [
        "## VideoGames\n"
      ],
      "metadata": {
        "id": "pyPPSUmiHY4E"
      }
    },
    {
      "cell_type": "code",
      "source": [
        "vg = VideoGames('video_games')"
      ],
      "metadata": {
        "id": "FIhTQYkqMzWW"
      },
      "execution_count": 142,
      "outputs": []
    },
    {
      "cell_type": "code",
      "source": [
        "vg.x_train"
      ],
      "metadata": {
        "colab": {
          "base_uri": "https://localhost:8080/"
        },
        "id": "dAMOhM6wM2PE",
        "outputId": "fdf98045-7f4f-45ba-e4ae-3b09d4974ac4"
      },
      "execution_count": 143,
      "outputs": [
        {
          "output_type": "execute_result",
          "data": {
            "text/plain": [
              "array([[30.        , 24.95      ],\n",
              "       [ 0.        , 14.95      ],\n",
              "       [ 7.25      , 22.95      ],\n",
              "       ...,\n",
              "       [17.        , 16.95      ],\n",
              "       [13.5       , 16.95      ],\n",
              "       [39.16666667, 17.95      ]])"
            ]
          },
          "metadata": {},
          "execution_count": 143
        }
      ]
    },
    {
      "cell_type": "code",
      "source": [
        "vg.y_test"
      ],
      "metadata": {
        "colab": {
          "base_uri": "https://localhost:8080/"
        },
        "id": "lUejcx14Hl7x",
        "outputId": "c290c819-1f54-43f5-cae8-79fadc069073"
      },
      "execution_count": 144,
      "outputs": [
        {
          "output_type": "execute_result",
          "data": {
            "text/plain": [
              "array([3, 2, 2, 3, 2, 3, 3, 2, 3, 3, 3, 2, 1, 3, 2, 3, 2, 3, 2, 2, 3, 2,\n",
              "       3, 2, 3, 3, 3, 3, 2, 3, 3, 3, 2, 2, 2, 3, 2, 2, 3, 2, 2, 2, 1, 3,\n",
              "       3, 3, 3, 3, 3, 1, 2, 1, 3, 2, 2, 1, 2, 1, 2, 2, 2, 2, 2, 3, 3, 3,\n",
              "       3, 2, 2, 2, 1, 2, 3, 2, 2, 2, 1, 2, 2, 2, 2, 2, 2, 3, 2, 2, 2, 2,\n",
              "       2, 2, 2, 2, 3, 3, 2, 2, 3, 2, 2, 3, 3, 2, 3, 2, 2, 2, 3, 3, 2, 2,\n",
              "       1, 2, 3, 2, 1, 2, 2, 3, 3, 3, 2, 3, 2, 2, 2, 2, 2, 3, 2, 3, 2, 2,\n",
              "       2, 1, 2, 3, 1, 2, 3, 1, 2, 3, 3, 1, 3, 3, 1, 3, 2, 2, 3, 2, 1, 1,\n",
              "       3, 3, 2, 2, 2, 2, 2, 2, 3, 2, 3, 2, 2, 2, 2, 1, 1, 1, 2, 2, 2, 2,\n",
              "       2, 1, 1, 1, 2, 2, 2, 2, 2, 2, 1])"
            ]
          },
          "metadata": {},
          "execution_count": 144
        }
      ]
    },
    {
      "cell_type": "code",
      "source": [
        "vg.df #.dtypes['id'] == object #['Features.Handheld?'] #tmdb_popularity"
      ],
      "metadata": {
        "colab": {
          "base_uri": "https://localhost:8080/",
          "height": 424
        },
        "id": "mS7UyloOHmBR",
        "outputId": "8451f9af-8586-4a18-d35d-e33003f6b9dc"
      },
      "execution_count": 145,
      "outputs": [
        {
          "output_type": "execute_result",
          "data": {
            "text/plain": [
              "     Metrics.Review Score  Metrics.Used Price  Length.Completionists.Median  \\\n",
              "0                       3               24.95                     30.000000   \n",
              "1                       3               14.95                      0.000000   \n",
              "2                       3               22.95                      7.250000   \n",
              "3                       3               12.95                      0.000000   \n",
              "4                       2               14.95                     72.566667   \n",
              "...                   ...                 ...                           ...   \n",
              "1206                    2               12.95                     12.866667   \n",
              "1207                    2               17.95                     12.000000   \n",
              "1209                    2               15.95                      0.000000   \n",
              "1210                    2               17.95                     12.000000   \n",
              "1211                    1               17.95                      1.500000   \n",
              "\n",
              "      Metrics.Review Score_bk  \n",
              "0                          85  \n",
              "1                          89  \n",
              "2                          81  \n",
              "3                          81  \n",
              "4                          61  \n",
              "...                       ...  \n",
              "1206                       67  \n",
              "1207                       71  \n",
              "1209                       51  \n",
              "1210                       64  \n",
              "1211                       39  \n",
              "\n",
              "[938 rows x 4 columns]"
            ],
            "text/html": [
              "\n",
              "  <div id=\"df-6d741441-851c-4e05-ae05-4550b3c77564\">\n",
              "    <div class=\"colab-df-container\">\n",
              "      <div>\n",
              "<style scoped>\n",
              "    .dataframe tbody tr th:only-of-type {\n",
              "        vertical-align: middle;\n",
              "    }\n",
              "\n",
              "    .dataframe tbody tr th {\n",
              "        vertical-align: top;\n",
              "    }\n",
              "\n",
              "    .dataframe thead th {\n",
              "        text-align: right;\n",
              "    }\n",
              "</style>\n",
              "<table border=\"1\" class=\"dataframe\">\n",
              "  <thead>\n",
              "    <tr style=\"text-align: right;\">\n",
              "      <th></th>\n",
              "      <th>Metrics.Review Score</th>\n",
              "      <th>Metrics.Used Price</th>\n",
              "      <th>Length.Completionists.Median</th>\n",
              "      <th>Metrics.Review Score_bk</th>\n",
              "    </tr>\n",
              "  </thead>\n",
              "  <tbody>\n",
              "    <tr>\n",
              "      <th>0</th>\n",
              "      <td>3</td>\n",
              "      <td>24.95</td>\n",
              "      <td>30.000000</td>\n",
              "      <td>85</td>\n",
              "    </tr>\n",
              "    <tr>\n",
              "      <th>1</th>\n",
              "      <td>3</td>\n",
              "      <td>14.95</td>\n",
              "      <td>0.000000</td>\n",
              "      <td>89</td>\n",
              "    </tr>\n",
              "    <tr>\n",
              "      <th>2</th>\n",
              "      <td>3</td>\n",
              "      <td>22.95</td>\n",
              "      <td>7.250000</td>\n",
              "      <td>81</td>\n",
              "    </tr>\n",
              "    <tr>\n",
              "      <th>3</th>\n",
              "      <td>3</td>\n",
              "      <td>12.95</td>\n",
              "      <td>0.000000</td>\n",
              "      <td>81</td>\n",
              "    </tr>\n",
              "    <tr>\n",
              "      <th>4</th>\n",
              "      <td>2</td>\n",
              "      <td>14.95</td>\n",
              "      <td>72.566667</td>\n",
              "      <td>61</td>\n",
              "    </tr>\n",
              "    <tr>\n",
              "      <th>...</th>\n",
              "      <td>...</td>\n",
              "      <td>...</td>\n",
              "      <td>...</td>\n",
              "      <td>...</td>\n",
              "    </tr>\n",
              "    <tr>\n",
              "      <th>1206</th>\n",
              "      <td>2</td>\n",
              "      <td>12.95</td>\n",
              "      <td>12.866667</td>\n",
              "      <td>67</td>\n",
              "    </tr>\n",
              "    <tr>\n",
              "      <th>1207</th>\n",
              "      <td>2</td>\n",
              "      <td>17.95</td>\n",
              "      <td>12.000000</td>\n",
              "      <td>71</td>\n",
              "    </tr>\n",
              "    <tr>\n",
              "      <th>1209</th>\n",
              "      <td>2</td>\n",
              "      <td>15.95</td>\n",
              "      <td>0.000000</td>\n",
              "      <td>51</td>\n",
              "    </tr>\n",
              "    <tr>\n",
              "      <th>1210</th>\n",
              "      <td>2</td>\n",
              "      <td>17.95</td>\n",
              "      <td>12.000000</td>\n",
              "      <td>64</td>\n",
              "    </tr>\n",
              "    <tr>\n",
              "      <th>1211</th>\n",
              "      <td>1</td>\n",
              "      <td>17.95</td>\n",
              "      <td>1.500000</td>\n",
              "      <td>39</td>\n",
              "    </tr>\n",
              "  </tbody>\n",
              "</table>\n",
              "<p>938 rows × 4 columns</p>\n",
              "</div>\n",
              "      <button class=\"colab-df-convert\" onclick=\"convertToInteractive('df-6d741441-851c-4e05-ae05-4550b3c77564')\"\n",
              "              title=\"Convert this dataframe to an interactive table.\"\n",
              "              style=\"display:none;\">\n",
              "        \n",
              "  <svg xmlns=\"http://www.w3.org/2000/svg\" height=\"24px\"viewBox=\"0 0 24 24\"\n",
              "       width=\"24px\">\n",
              "    <path d=\"M0 0h24v24H0V0z\" fill=\"none\"/>\n",
              "    <path d=\"M18.56 5.44l.94 2.06.94-2.06 2.06-.94-2.06-.94-.94-2.06-.94 2.06-2.06.94zm-11 1L8.5 8.5l.94-2.06 2.06-.94-2.06-.94L8.5 2.5l-.94 2.06-2.06.94zm10 10l.94 2.06.94-2.06 2.06-.94-2.06-.94-.94-2.06-.94 2.06-2.06.94z\"/><path d=\"M17.41 7.96l-1.37-1.37c-.4-.4-.92-.59-1.43-.59-.52 0-1.04.2-1.43.59L10.3 9.45l-7.72 7.72c-.78.78-.78 2.05 0 2.83L4 21.41c.39.39.9.59 1.41.59.51 0 1.02-.2 1.41-.59l7.78-7.78 2.81-2.81c.8-.78.8-2.07 0-2.86zM5.41 20L4 18.59l7.72-7.72 1.47 1.35L5.41 20z\"/>\n",
              "  </svg>\n",
              "      </button>\n",
              "      \n",
              "  <style>\n",
              "    .colab-df-container {\n",
              "      display:flex;\n",
              "      flex-wrap:wrap;\n",
              "      gap: 12px;\n",
              "    }\n",
              "\n",
              "    .colab-df-convert {\n",
              "      background-color: #E8F0FE;\n",
              "      border: none;\n",
              "      border-radius: 50%;\n",
              "      cursor: pointer;\n",
              "      display: none;\n",
              "      fill: #1967D2;\n",
              "      height: 32px;\n",
              "      padding: 0 0 0 0;\n",
              "      width: 32px;\n",
              "    }\n",
              "\n",
              "    .colab-df-convert:hover {\n",
              "      background-color: #E2EBFA;\n",
              "      box-shadow: 0px 1px 2px rgba(60, 64, 67, 0.3), 0px 1px 3px 1px rgba(60, 64, 67, 0.15);\n",
              "      fill: #174EA6;\n",
              "    }\n",
              "\n",
              "    [theme=dark] .colab-df-convert {\n",
              "      background-color: #3B4455;\n",
              "      fill: #D2E3FC;\n",
              "    }\n",
              "\n",
              "    [theme=dark] .colab-df-convert:hover {\n",
              "      background-color: #434B5C;\n",
              "      box-shadow: 0px 1px 3px 1px rgba(0, 0, 0, 0.15);\n",
              "      filter: drop-shadow(0px 1px 2px rgba(0, 0, 0, 0.3));\n",
              "      fill: #FFFFFF;\n",
              "    }\n",
              "  </style>\n",
              "\n",
              "      <script>\n",
              "        const buttonEl =\n",
              "          document.querySelector('#df-6d741441-851c-4e05-ae05-4550b3c77564 button.colab-df-convert');\n",
              "        buttonEl.style.display =\n",
              "          google.colab.kernel.accessAllowed ? 'block' : 'none';\n",
              "\n",
              "        async function convertToInteractive(key) {\n",
              "          const element = document.querySelector('#df-6d741441-851c-4e05-ae05-4550b3c77564');\n",
              "          const dataTable =\n",
              "            await google.colab.kernel.invokeFunction('convertToInteractive',\n",
              "                                                     [key], {});\n",
              "          if (!dataTable) return;\n",
              "\n",
              "          const docLinkHtml = 'Like what you see? Visit the ' +\n",
              "            '<a target=\"_blank\" href=https://colab.research.google.com/notebooks/data_table.ipynb>data table notebook</a>'\n",
              "            + ' to learn more about interactive tables.';\n",
              "          element.innerHTML = '';\n",
              "          dataTable['output_type'] = 'display_data';\n",
              "          await google.colab.output.renderOutput(dataTable, element);\n",
              "          const docLink = document.createElement('div');\n",
              "          docLink.innerHTML = docLinkHtml;\n",
              "          element.appendChild(docLink);\n",
              "        }\n",
              "      </script>\n",
              "    </div>\n",
              "  </div>\n",
              "  "
            ]
          },
          "metadata": {},
          "execution_count": 145
        }
      ]
    },
    {
      "cell_type": "code",
      "source": [
        "print(len(vg.x_train), len(vg.x_test))"
      ],
      "metadata": {
        "colab": {
          "base_uri": "https://localhost:8080/"
        },
        "id": "Lvt1CjnOHmGM",
        "outputId": "fcaa971f-f73b-4326-c678-56d33763fb93"
      },
      "execution_count": 146,
      "outputs": [
        {
          "output_type": "stream",
          "name": "stdout",
          "text": [
            "750 187\n"
          ]
        }
      ]
    },
    {
      "cell_type": "code",
      "source": [
        "# Definitions\n",
        "alpha       = 1e-5          # learning rate\n",
        "nh          = (4,2)        # nodes of hidden layers\n",
        "tmax        = 2000          # max number of iterations\n",
        "solver      = 'adam'        # optimization approach ('lbfgs','sgd', 'adam') \n",
        "nn_st       = 'NN-'+str(nh)\n",
        "activation  = 'logistic'    # 'identity', 'logistic', 'tanh', 'relu'\n",
        "\n",
        "# Training\n",
        "clf = MLPClassifier(solver=solver, alpha=alpha, hidden_layer_sizes=nh, random_state=1, max_iter=tmax, activation=activation)\n",
        "clf.fit(vg.x_train, vg.y_train)\n",
        "\n",
        "# Evaluation on training subset \n",
        "y0 = clf.predict(vg.x_train)\n",
        "    \n",
        "# Evaluation on testing subset \n",
        "ypred = clf.predict(vg.x_test)"
      ],
      "metadata": {
        "id": "aNtdWgPmMpN6"
      },
      "execution_count": 160,
      "outputs": []
    },
    {
      "cell_type": "code",
      "source": [
        "# clf,X,d,Xt,dt,d0,ds,st,decisionline=1\n",
        "# show_clf_results(clf, Xtrain, ytrain, Xtest, ytest, y0, ypred, nn_st, decisionline=1)"
      ],
      "metadata": {
        "id": "8CuN9gKhH3HS"
      },
      "execution_count": null,
      "outputs": []
    },
    {
      "cell_type": "code",
      "source": [
        "# Display results \n",
        "show_clf_results(clf, vg.x_train, vg.y_train, vg.x_test, vg.y_test, y0, ypred, nn_st, decisionline=1)"
      ],
      "metadata": {
        "colab": {
          "base_uri": "https://localhost:8080/",
          "height": 635
        },
        "id": "e9RDAgLqHmvU",
        "outputId": "66b586c0-a8cc-47fa-a4ff-1b53cc89859e"
      },
      "execution_count": 161,
      "outputs": [
        {
          "output_type": "stream",
          "name": "stdout",
          "text": [
            "Training:\n",
            "Confusion Matrix:\n",
            "[[  0   0   3   0]\n",
            " [  0   0  69   0]\n",
            " [  0   0 393   0]\n",
            " [  0   0 285   0]]\n",
            "Accuracy = 52.40\n",
            "Testing:\n",
            "Confusion Matrix:\n",
            "[[  0  24   0]\n",
            " [  0 102   0]\n",
            " [  0  61   0]]\n",
            "Accuracy = 54.55\n"
          ]
        },
        {
          "output_type": "display_data",
          "data": {
            "text/plain": [
              "<Figure size 1296x432 with 2 Axes>"
            ],
            "image/png": "[encoded data removed]"
          },
          "metadata": {
            "needs_background": "light"
          }
        }
      ]
    }
  ]
}